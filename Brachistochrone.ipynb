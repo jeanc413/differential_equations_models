{
 "cells": [
  {
   "cell_type": "markdown",
   "metadata": {},
   "source": [
    "# Brachistochrone\n",
    "\n",
    "A complete guide to understand the Brachistochrone problem can be\n",
    "found here [(german resource)](https://de.wikipedia.org/wiki/Brachistochrone),\n",
    "or here on [english](https://en.wikipedia.org/wiki/Brachistochrone_curve).\n",
    "\n",
    "This problem is basically a curve (slide alike path) which gives the fastest descend between\n",
    "a high starting point $A$, and a lower finish point $B$.\n",
    "\n",
    "# Problem definition\n",
    "\n",
    "To model this problem, we use a function $u(t)$ which maps for\n",
    "each instant of time an angle direction with respect to the $(x, y)$ coordinates.\n",
    "<center>\n",
    "\n",
    "\\begin{align}\n",
    "\\min_{u} T \\\\\n",
    "\\textrm{s.t.} \\\\\n",
    "\\dot x &= v(t)cos(u(t)) \\\\\n",
    "\\dot y &= -v(t)sin(u(t) \\\\\n",
    "\\dot v &= 9.81sin(u(t) \\\\\n",
    "\\end{align}\n",
    "\n",
    "----------------------------------------------------------\n",
    "\n",
    "\\begin{align}\n",
    "x(0) &= 0 \\\\\n",
    "v(0) &= 0 \\\\\n",
    "x(T) &= 1\n",
    "\\end{align}\n",
    "\n",
    "----------------------------------------------------------\n",
    "\n",
    "![Brachistochrone concept image](https://cdn.thingiverse.com/renders/84/1e/85/89/8c/d5a57c0790f41289c92a57cfa2414315_preview_featured.jpg)"
   ]
  },
  {
   "cell_type": "code",
   "execution_count": 1,
   "metadata": {
    "jupyter": {
     "outputs_hidden": false
    },
    "pycharm": {
     "name": "#%%\n"
    }
   },
   "outputs": [],
   "source": [
    "# importing required packages.\n",
    "import pandas as pd\n",
    "import matplotlib.pyplot as plt\n",
    "import numpy as np\n",
    "import pyomo.environ as env\n",
    "import pyomo.dae as dae\n",
    "import plotly.express as px"
   ]
  },
  {
   "cell_type": "code",
   "execution_count": 72,
   "metadata": {
    "jupyter": {
     "outputs_hidden": false
    },
    "pycharm": {
     "name": "#%%\n"
    }
   },
   "outputs": [
    {
     "name": "stdout",
     "output_type": "stream",
     "text": [
      "# ==========================================================\n",
      "# = Solver Results                                         =\n",
      "# ==========================================================\n",
      "# ----------------------------------------------------------\n",
      "#   Problem Information\n",
      "# ----------------------------------------------------------\n",
      "Problem: \n",
      "- Lower bound: -inf\n",
      "  Upper bound: inf\n",
      "  Number of objectives: 1\n",
      "  Number of constraints: 97\n",
      "  Number of variables: 113\n",
      "  Sense: unknown\n",
      "# ----------------------------------------------------------\n",
      "#   Solver Information\n",
      "# ----------------------------------------------------------\n",
      "Solver: \n",
      "- Status: ok\n",
      "  Message: Ipopt 3.11.1\\x3a Optimal Solution Found\n",
      "  Termination condition: optimal\n",
      "  Id: 0\n",
      "  Error rc: 0\n",
      "  Time: 0.03091883659362793\n",
      "# ----------------------------------------------------------\n",
      "#   Solution Information\n",
      "# ----------------------------------------------------------\n",
      "Solution: \n",
      "- number of solutions: 0\n",
      "  number of solutions displayed: 0\n"
     ]
    },
    {
     "data": {
      "image/png": "[encoded data removed]",
      "text/plain": [
       "<Figure size 432x288 with 3 Axes>"
      ]
     },
     "metadata": {
      "needs_background": "light"
     },
     "output_type": "display_data"
    }
   ],
   "source": [
    "# %% formulate Model\n",
    "# initialize general tuning variables\n",
    "g = 9.81  # Gravity\n",
    "t_f = 1\n",
    "\n",
    "# initialize model object\n",
    "Model = env.ConcreteModel()\n",
    "\n",
    "# initialize time variable\n",
    "Model.tf = env.Var(domain=env.NonNegativeReals)\n",
    "Model.t = dae.ContinuousSet(bounds=(0, t_f))\n",
    "\n",
    "# define control\n",
    "Model.u = env.Var(Model.t)\n",
    "\n",
    "# define dependent variables\n",
    "Model.x = env.Var(Model.t)\n",
    "Model.y = env.Var(Model.t)\n",
    "Model.v = env.Var(Model.t)\n",
    "\n",
    "# define derivatives\n",
    "Model.x_dot = dae.DerivativeVar(Model.x)\n",
    "Model.y_dot = dae.DerivativeVar(Model.y)\n",
    "Model.v_dot = dae.DerivativeVar(Model.v)\n",
    "\n",
    "# define ODE constraints\n",
    "Model.ode_x = env.Constraint(Model.t, rule=lambda m, t: m.x_dot[t] == m.v[t]*env.cos(m.u[t]))\n",
    "Model.ode_y = env.Constraint(Model.t, rule=lambda m, t: m.y_dot[t] == -m.v[t]*env.sin(m.u[t]))\n",
    "Model.ode_v = env.Constraint(Model.t, rule=lambda m, t: m.v_dot[t] == g*env.sin(m.u[t]))\n",
    "\n",
    "# set initial and final conditions\n",
    "Model.bounds = env.ConstraintList()\n",
    "Model.bounds.add(Model.x[0] == 0)\n",
    "Model.bounds.add(Model.v[0] == 0)\n",
    "Model.bounds.add(Model.y[0] == 0)\n",
    "Model.bounds.add(Model.x[t_f] == 1)\n",
    "\n",
    "# define model objective\n",
    "Model.objective = env.Objective(rule=lambda model: model.tf)\n",
    "\n",
    "# %% solve System\n",
    "env.TransformationFactory('dae.finite_difference').apply_to(Model, wrt=Model.t, nfe=15)\n",
    "env.SolverFactory('ipopt').solve(Model,tee=False).write()\n",
    "\n",
    "# %% basic Plot\n",
    "# define variables\n",
    "time = np.array([t for t in Model.t])\n",
    "u = np.array([Model.u[t]() for t in Model.t])\n",
    "velocity = np.array([Model.v[t]() for t in Model.t])\n",
    "v = np.array([str(np.round(Model.v[t](), 2))+\" m/s\" for t in Model.t])\n",
    "x = np.array([Model.x[t]() for t in Model.t])\n",
    "y = np.array([Model.y[t]() for t in Model.t])\n",
    "solution_data = pd.DataFrame(data={'control': u,\n",
    "                                   'velocity': v,\n",
    "                                   'time': time,\n",
    "                                   'x': x,\n",
    "                                   'y': y})\n",
    "\n",
    "# create path and control plotting\n",
    "fig, axes = plt.subplots(nrows=1, ncols=3)\n",
    "\n",
    "# path plotting\n",
    "axes[0].plot(x, y)\n",
    "axes[0].set_title(\"Path of ball\")\n",
    "\n",
    "# control plotting\n",
    "for i in range(np.size(u)-1):\n",
    "    u_temp = ([u[i], u[i]])\n",
    "    x_temp = ([time[i], time[i+1]])\n",
    "    axes[1].plot(x_temp, u_temp, '-', lw=2, color='k')\n",
    "axes[1].set_title(\"Control change\\nover time mesh\")\n",
    "\n",
    "# aceleration plotting\n",
    "axes[2].plot(time, velocity)\n",
    "axes[2].set_title(\"Velocity change\\nover time\")\n",
    "\n",
    "fig.tight_layout()\n",
    "plt.show()"
   ]
  },
  {
   "cell_type": "markdown",
   "metadata": {},
   "source": [
    "* First plot shows the optimized for velocity path of the ball. It is forseable that the path angle changes more as long as the transcurred distance gets closer to the final position.\n",
    "* The center plot shows the change of the angle respect to the time by intervals calculated from the discretization mesh.\n",
    "* The third plot shows the change of velocity over time. Showing how the change of angles leads to increase of acceleration on a quadratic way."
   ]
  },
  {
   "cell_type": "markdown",
   "metadata": {},
   "source": [
    "### Warning\n",
    "This plotly animation require some packages to work properly on specific notebooks displayers. \n",
    "This version was tested specifically on `jupyter-notebooks==6.1.6` using `plotly==4.14.3`."
   ]
  },
  {
   "cell_type": "code",
   "execution_count": 53,
   "metadata": {
    "jupyter": {
     "outputs_hidden": false
    },
    "pycharm": {
     "name": "#%%\n"
    }
   },
   "outputs": [
    {
     "data": {
      "application/vnd.plotly.v1+json": {
       "config": {
        "plotlyServerURL": "https://plot.ly"
       },
       "data": [
        {
         "hovertemplate": "time=0.0<br>x=%{x}<br>y=%{y}<br>size=%{marker.size}<br>velocity=%{text}<extra></extra>",
         "legendgroup": "",
         "marker": {
          "color": "red",
          "size": [
           0.05
          ],
          "sizemode": "area",
          "sizeref": 0.000125,
          "symbol": "circle"
         },
         "mode": "markers+text",
         "name": "",
         "orientation": "v",
         "showlegend": false,
         "text": [
          "0.0 m/s"
         ],
         "type": "scatter",
         "x": [
          0
         ],
         "xaxis": "x",
         "y": [
          0.009090909090909092
         ],
         "yaxis": "y"
        },
        {
         "hovertemplate": "x=%{x}<br>y=%{y}<extra></extra>",
         "legendgroup": "",
         "line": {
          "color": "#636efa",
          "dash": "solid"
         },
         "marker": {
          "color": "red"
         },
         "mode": "lines",
         "name": "",
         "orientation": "v",
         "showlegend": false,
         "type": "scatter",
         "x": [
          0,
          0.012808577306309476,
          0.037380554012822385,
          0.07267523762246701,
          0.11767420801950346,
          0.1713941496242448,
          0.23289631547774867,
          0.30128263856412113,
          0.37569625021212494,
          0.45532191264691746,
          0.5393736738408531,
          0.6270917536253602,
          0.7177400222785499,
          0.8105902904404356,
          0.904918295868728,
          1
         ],
         "xaxis": "x",
         "y": [
          0,
          -0.004159643966246111,
          -0.011265482530869037,
          -0.02034745667409884,
          -0.030632630326160985,
          -0.04150806488685285,
          -0.05249048839256701,
          -0.06319789786025681,
          -0.07332915451836229,
          -0.08264743131410769,
          -0.09096409482845741,
          -0.09812866800194281,
          -0.10402079565500524,
          -0.10854241430676817,
          -0.1116143221058061,
          -0.11317391265481312
         ],
         "yaxis": "y"
        }
       ],
       "frames": [
        {
         "data": [
          {
           "hovertemplate": "time=0.0<br>x=%{x}<br>y=%{y}<br>size=%{marker.size}<br>velocity=%{text}<extra></extra>",
           "legendgroup": "",
           "marker": {
            "color": "#636efa",
            "size": [
             0.05
            ],
            "sizemode": "area",
            "sizeref": 0.000125,
            "symbol": "circle"
           },
           "mode": "markers+text",
           "name": "",
           "orientation": "v",
           "showlegend": false,
           "text": [
            "0.0 m/s"
           ],
           "type": "scatter",
           "x": [
            0
           ],
           "xaxis": "x",
           "y": [
            0.009090909090909092
           ],
           "yaxis": "y"
          }
         ],
         "name": "0.0"
        },
        {
         "data": [
          {
           "hovertemplate": "time=0.066667<br>x=%{x}<br>y=%{y}<br>size=%{marker.size}<br>velocity=%{text}<extra></extra>",
           "legendgroup": "",
           "marker": {
            "color": "#636efa",
            "size": [
             0.05
            ],
            "sizemode": "area",
            "sizeref": 0.000125,
            "symbol": "circle"
           },
           "mode": "markers+text",
           "name": "",
           "orientation": "v",
           "showlegend": false,
           "text": [
            "0.2 m/s"
           ],
           "type": "scatter",
           "x": [
            0.012808577306309476
           ],
           "xaxis": "x",
           "y": [
            0.004931265124662981
           ],
           "yaxis": "y"
          }
         ],
         "name": "0.066667"
        },
        {
         "data": [
          {
           "hovertemplate": "time=0.133333<br>x=%{x}<br>y=%{y}<br>size=%{marker.size}<br>velocity=%{text}<extra></extra>",
           "legendgroup": "",
           "marker": {
            "color": "#636efa",
            "size": [
             0.05
            ],
            "sizemode": "area",
            "sizeref": 0.000125,
            "symbol": "circle"
           },
           "mode": "markers+text",
           "name": "",
           "orientation": "v",
           "showlegend": false,
           "text": [
            "0.38 m/s"
           ],
           "type": "scatter",
           "x": [
            0.037380554012822385
           ],
           "xaxis": "x",
           "y": [
            -0.0021745734399599443
           ],
           "yaxis": "y"
          }
         ],
         "name": "0.133333"
        },
        {
         "data": [
          {
           "hovertemplate": "time=0.2<br>x=%{x}<br>y=%{y}<br>size=%{marker.size}<br>velocity=%{text}<extra></extra>",
           "legendgroup": "",
           "marker": {
            "color": "#636efa",
            "size": [
             0.05
            ],
            "sizemode": "area",
            "sizeref": 0.000125,
            "symbol": "circle"
           },
           "mode": "markers+text",
           "name": "",
           "orientation": "v",
           "showlegend": false,
           "text": [
            "0.55 m/s"
           ],
           "type": "scatter",
           "x": [
            0.07267523762246701
           ],
           "xaxis": "x",
           "y": [
            -0.011256547583189747
           ],
           "yaxis": "y"
          }
         ],
         "name": "0.2"
        },
        {
         "data": [
          {
           "hovertemplate": "time=0.266667<br>x=%{x}<br>y=%{y}<br>size=%{marker.size}<br>velocity=%{text}<extra></extra>",
           "legendgroup": "",
           "marker": {
            "color": "#636efa",
            "size": [
             0.05
            ],
            "sizemode": "area",
            "sizeref": 0.000125,
            "symbol": "circle"
           },
           "mode": "markers+text",
           "name": "",
           "orientation": "v",
           "showlegend": false,
           "text": [
            "0.69 m/s"
           ],
           "type": "scatter",
           "x": [
            0.11767420801950346
           ],
           "xaxis": "x",
           "y": [
            -0.021541721235251894
           ],
           "yaxis": "y"
          }
         ],
         "name": "0.266667"
        },
        {
         "data": [
          {
           "hovertemplate": "time=0.333333<br>x=%{x}<br>y=%{y}<br>size=%{marker.size}<br>velocity=%{text}<extra></extra>",
           "legendgroup": "",
           "marker": {
            "color": "#636efa",
            "size": [
             0.05
            ],
            "sizemode": "area",
            "sizeref": 0.000125,
            "symbol": "circle"
           },
           "mode": "markers+text",
           "name": "",
           "orientation": "v",
           "showlegend": false,
           "text": [
            "0.82 m/s"
           ],
           "type": "scatter",
           "x": [
            0.1713941496242448
           ],
           "xaxis": "x",
           "y": [
            -0.03241715579594376
           ],
           "yaxis": "y"
          }
         ],
         "name": "0.333333"
        },
        {
         "data": [
          {
           "hovertemplate": "time=0.4<br>x=%{x}<br>y=%{y}<br>size=%{marker.size}<br>velocity=%{text}<extra></extra>",
           "legendgroup": "",
           "marker": {
            "color": "#636efa",
            "size": [
             0.05
            ],
            "sizemode": "area",
            "sizeref": 0.000125,
            "symbol": "circle"
           },
           "mode": "markers+text",
           "name": "",
           "orientation": "v",
           "showlegend": false,
           "text": [
            "0.94 m/s"
           ],
           "type": "scatter",
           "x": [
            0.23289631547774867
           ],
           "xaxis": "x",
           "y": [
            -0.043399579301657915
           ],
           "yaxis": "y"
          }
         ],
         "name": "0.4"
        },
        {
         "data": [
          {
           "hovertemplate": "time=0.466667<br>x=%{x}<br>y=%{y}<br>size=%{marker.size}<br>velocity=%{text}<extra></extra>",
           "legendgroup": "",
           "marker": {
            "color": "#636efa",
            "size": [
             0.05
            ],
            "sizemode": "area",
            "sizeref": 0.000125,
            "symbol": "circle"
           },
           "mode": "markers+text",
           "name": "",
           "orientation": "v",
           "showlegend": false,
           "text": [
            "1.04 m/s"
           ],
           "type": "scatter",
           "x": [
            0.30128263856412113
           ],
           "xaxis": "x",
           "y": [
            -0.05410698876934772
           ],
           "yaxis": "y"
          }
         ],
         "name": "0.466667"
        },
        {
         "data": [
          {
           "hovertemplate": "time=0.533333<br>x=%{x}<br>y=%{y}<br>size=%{marker.size}<br>velocity=%{text}<extra></extra>",
           "legendgroup": "",
           "marker": {
            "color": "#636efa",
            "size": [
             0.05
            ],
            "sizemode": "area",
            "sizeref": 0.000125,
            "symbol": "circle"
           },
           "mode": "markers+text",
           "name": "",
           "orientation": "v",
           "showlegend": false,
           "text": [
            "1.13 m/s"
           ],
           "type": "scatter",
           "x": [
            0.37569625021212494
           ],
           "xaxis": "x",
           "y": [
            -0.0642382454274532
           ],
           "yaxis": "y"
          }
         ],
         "name": "0.533333"
        },
        {
         "data": [
          {
           "hovertemplate": "time=0.6<br>x=%{x}<br>y=%{y}<br>size=%{marker.size}<br>velocity=%{text}<extra></extra>",
           "legendgroup": "",
           "marker": {
            "color": "#636efa",
            "size": [
             0.05
            ],
            "sizemode": "area",
            "sizeref": 0.000125,
            "symbol": "circle"
           },
           "mode": "markers+text",
           "name": "",
           "orientation": "v",
           "showlegend": false,
           "text": [
            "1.2 m/s"
           ],
           "type": "scatter",
           "x": [
            0.45532191264691746
           ],
           "xaxis": "x",
           "y": [
            -0.0735565222231986
           ],
           "yaxis": "y"
          }
         ],
         "name": "0.6"
        },
        {
         "data": [
          {
           "hovertemplate": "time=0.666667<br>x=%{x}<br>y=%{y}<br>size=%{marker.size}<br>velocity=%{text}<extra></extra>",
           "legendgroup": "",
           "marker": {
            "color": "#636efa",
            "size": [
             0.05
            ],
            "sizemode": "area",
            "sizeref": 0.000125,
            "symbol": "circle"
           },
           "mode": "markers+text",
           "name": "",
           "orientation": "v",
           "showlegend": false,
           "text": [
            "1.27 m/s"
           ],
           "type": "scatter",
           "x": [
            0.5393736738408531
           ],
           "xaxis": "x",
           "y": [
            -0.08187318573754832
           ],
           "yaxis": "y"
          }
         ],
         "name": "0.666667"
        },
        {
         "data": [
          {
           "hovertemplate": "time=0.733333<br>x=%{x}<br>y=%{y}<br>size=%{marker.size}<br>velocity=%{text}<extra></extra>",
           "legendgroup": "",
           "marker": {
            "color": "#636efa",
            "size": [
             0.05
            ],
            "sizemode": "area",
            "sizeref": 0.000125,
            "symbol": "circle"
           },
           "mode": "markers+text",
           "name": "",
           "orientation": "v",
           "showlegend": false,
           "text": [
            "1.32 m/s"
           ],
           "type": "scatter",
           "x": [
            0.6270917536253602
           ],
           "xaxis": "x",
           "y": [
            -0.08903775891103372
           ],
           "yaxis": "y"
          }
         ],
         "name": "0.733333"
        },
        {
         "data": [
          {
           "hovertemplate": "time=0.8<br>x=%{x}<br>y=%{y}<br>size=%{marker.size}<br>velocity=%{text}<extra></extra>",
           "legendgroup": "",
           "marker": {
            "color": "#636efa",
            "size": [
             0.05
            ],
            "sizemode": "area",
            "sizeref": 0.000125,
            "symbol": "circle"
           },
           "mode": "markers+text",
           "name": "",
           "orientation": "v",
           "showlegend": false,
           "text": [
            "1.36 m/s"
           ],
           "type": "scatter",
           "x": [
            0.7177400222785499
           ],
           "xaxis": "x",
           "y": [
            -0.09492988656409615
           ],
           "yaxis": "y"
          }
         ],
         "name": "0.8"
        },
        {
         "data": [
          {
           "hovertemplate": "time=0.866667<br>x=%{x}<br>y=%{y}<br>size=%{marker.size}<br>velocity=%{text}<extra></extra>",
           "legendgroup": "",
           "marker": {
            "color": "#636efa",
            "size": [
             0.05
            ],
            "sizemode": "area",
            "sizeref": 0.000125,
            "symbol": "circle"
           },
           "mode": "markers+text",
           "name": "",
           "orientation": "v",
           "showlegend": false,
           "text": [
            "1.39 m/s"
           ],
           "type": "scatter",
           "x": [
            0.8105902904404356
           ],
           "xaxis": "x",
           "y": [
            -0.09945150521585908
           ],
           "yaxis": "y"
          }
         ],
         "name": "0.866667"
        },
        {
         "data": [
          {
           "hovertemplate": "time=0.933333<br>x=%{x}<br>y=%{y}<br>size=%{marker.size}<br>velocity=%{text}<extra></extra>",
           "legendgroup": "",
           "marker": {
            "color": "#636efa",
            "size": [
             0.05
            ],
            "sizemode": "area",
            "sizeref": 0.000125,
            "symbol": "circle"
           },
           "mode": "markers+text",
           "name": "",
           "orientation": "v",
           "showlegend": false,
           "text": [
            "1.42 m/s"
           ],
           "type": "scatter",
           "x": [
            0.904918295868728
           ],
           "xaxis": "x",
           "y": [
            -0.10252341301489701
           ],
           "yaxis": "y"
          }
         ],
         "name": "0.933333"
        },
        {
         "data": [
          {
           "hovertemplate": "time=1.0<br>x=%{x}<br>y=%{y}<br>size=%{marker.size}<br>velocity=%{text}<extra></extra>",
           "legendgroup": "",
           "marker": {
            "color": "#636efa",
            "size": [
             0.05
            ],
            "sizemode": "area",
            "sizeref": 0.000125,
            "symbol": "circle"
           },
           "mode": "markers+text",
           "name": "",
           "orientation": "v",
           "showlegend": false,
           "text": [
            "1.43 m/s"
           ],
           "type": "scatter",
           "x": [
            1
           ],
           "xaxis": "x",
           "y": [
            -0.10408300356390403
           ],
           "yaxis": "y"
          }
         ],
         "name": "1.0"
        }
       ],
       "layout": {
        "legend": {
         "itemsizing": "constant",
         "tracegroupgap": 0
        },
        "sliders": [
         {
          "active": 0,
          "currentvalue": {
           "prefix": "time="
          },
          "len": 0.9,
          "pad": {
           "b": 10,
           "t": 60
          },
          "steps": [
           {
            "args": [
             [
              "0.0"
             ],
             {
              "frame": {
               "duration": 0,
               "redraw": false
              },
              "fromcurrent": true,
              "mode": "immediate",
              "transition": {
               "duration": 0,
               "easing": "linear"
              }
             }
            ],
            "label": "0.0",
            "method": "animate"
           },
           {
            "args": [
             [
              "0.066667"
             ],
             {
              "frame": {
               "duration": 0,
               "redraw": false
              },
              "fromcurrent": true,
              "mode": "immediate",
              "transition": {
               "duration": 0,
               "easing": "linear"
              }
             }
            ],
            "label": "0.066667",
            "method": "animate"
           },
           {
            "args": [
             [
              "0.133333"
             ],
             {
              "frame": {
               "duration": 0,
               "redraw": false
              },
              "fromcurrent": true,
              "mode": "immediate",
              "transition": {
               "duration": 0,
               "easing": "linear"
              }
             }
            ],
            "label": "0.133333",
            "method": "animate"
           },
           {
            "args": [
             [
              "0.2"
             ],
             {
              "frame": {
               "duration": 0,
               "redraw": false
              },
              "fromcurrent": true,
              "mode": "immediate",
              "transition": {
               "duration": 0,
               "easing": "linear"
              }
             }
            ],
            "label": "0.2",
            "method": "animate"
           },
           {
            "args": [
             [
              "0.266667"
             ],
             {
              "frame": {
               "duration": 0,
               "redraw": false
              },
              "fromcurrent": true,
              "mode": "immediate",
              "transition": {
               "duration": 0,
               "easing": "linear"
              }
             }
            ],
            "label": "0.266667",
            "method": "animate"
           },
           {
            "args": [
             [
              "0.333333"
             ],
             {
              "frame": {
               "duration": 0,
               "redraw": false
              },
              "fromcurrent": true,
              "mode": "immediate",
              "transition": {
               "duration": 0,
               "easing": "linear"
              }
             }
            ],
            "label": "0.333333",
            "method": "animate"
           },
           {
            "args": [
             [
              "0.4"
             ],
             {
              "frame": {
               "duration": 0,
               "redraw": false
              },
              "fromcurrent": true,
              "mode": "immediate",
              "transition": {
               "duration": 0,
               "easing": "linear"
              }
             }
            ],
            "label": "0.4",
            "method": "animate"
           },
           {
            "args": [
             [
              "0.466667"
             ],
             {
              "frame": {
               "duration": 0,
               "redraw": false
              },
              "fromcurrent": true,
              "mode": "immediate",
              "transition": {
               "duration": 0,
               "easing": "linear"
              }
             }
            ],
            "label": "0.466667",
            "method": "animate"
           },
           {
            "args": [
             [
              "0.533333"
             ],
             {
              "frame": {
               "duration": 0,
               "redraw": false
              },
              "fromcurrent": true,
              "mode": "immediate",
              "transition": {
               "duration": 0,
               "easing": "linear"
              }
             }
            ],
            "label": "0.533333",
            "method": "animate"
           },
           {
            "args": [
             [
              "0.6"
             ],
             {
              "frame": {
               "duration": 0,
               "redraw": false
              },
              "fromcurrent": true,
              "mode": "immediate",
              "transition": {
               "duration": 0,
               "easing": "linear"
              }
             }
            ],
            "label": "0.6",
            "method": "animate"
           },
           {
            "args": [
             [
              "0.666667"
             ],
             {
              "frame": {
               "duration": 0,
               "redraw": false
              },
              "fromcurrent": true,
              "mode": "immediate",
              "transition": {
               "duration": 0,
               "easing": "linear"
              }
             }
            ],
            "label": "0.666667",
            "method": "animate"
           },
           {
            "args": [
             [
              "0.733333"
             ],
             {
              "frame": {
               "duration": 0,
               "redraw": false
              },
              "fromcurrent": true,
              "mode": "immediate",
              "transition": {
               "duration": 0,
               "easing": "linear"
              }
             }
            ],
            "label": "0.733333",
            "method": "animate"
           },
           {
            "args": [
             [
              "0.8"
             ],
             {
              "frame": {
               "duration": 0,
               "redraw": false
              },
              "fromcurrent": true,
              "mode": "immediate",
              "transition": {
               "duration": 0,
               "easing": "linear"
              }
             }
            ],
            "label": "0.8",
            "method": "animate"
           },
           {
            "args": [
             [
              "0.866667"
             ],
             {
              "frame": {
               "duration": 0,
               "redraw": false
              },
              "fromcurrent": true,
              "mode": "immediate",
              "transition": {
               "duration": 0,
               "easing": "linear"
              }
             }
            ],
            "label": "0.866667",
            "method": "animate"
           },
           {
            "args": [
             [
              "0.933333"
             ],
             {
              "frame": {
               "duration": 0,
               "redraw": false
              },
              "fromcurrent": true,
              "mode": "immediate",
              "transition": {
               "duration": 0,
               "easing": "linear"
              }
             }
            ],
            "label": "0.933333",
            "method": "animate"
           },
           {
            "args": [
             [
              "1.0"
             ],
             {
              "frame": {
               "duration": 0,
               "redraw": false
              },
              "fromcurrent": true,
              "mode": "immediate",
              "transition": {
               "duration": 0,
               "easing": "linear"
              }
             }
            ],
            "label": "1.0",
            "method": "animate"
           }
          ],
          "x": 0.1,
          "xanchor": "left",
          "y": 0,
          "yanchor": "top"
         }
        ],
        "template": {
         "data": {
          "bar": [
           {
            "error_x": {
             "color": "#2a3f5f"
            },
            "error_y": {
             "color": "#2a3f5f"
            },
            "marker": {
             "line": {
              "color": "#E5ECF6",
              "width": 0.5
             }
            },
            "type": "bar"
           }
          ],
          "barpolar": [
           {
            "marker": {
             "line": {
              "color": "#E5ECF6",
              "width": 0.5
             }
            },
            "type": "barpolar"
           }
          ],
          "carpet": [
           {
            "aaxis": {
             "endlinecolor": "#2a3f5f",
             "gridcolor": "white",
             "linecolor": "white",
             "minorgridcolor": "white",
             "startlinecolor": "#2a3f5f"
            },
            "baxis": {
             "endlinecolor": "#2a3f5f",
             "gridcolor": "white",
             "linecolor": "white",
             "minorgridcolor": "white",
             "startlinecolor": "#2a3f5f"
            },
            "type": "carpet"
           }
          ],
          "choropleth": [
           {
            "colorbar": {
             "outlinewidth": 0,
             "ticks": ""
            },
            "type": "choropleth"
           }
          ],
          "contour": [
           {
            "colorbar": {
             "outlinewidth": 0,
             "ticks": ""
            },
            "colorscale": [
             [
              0,
              "#0d0887"
             ],
             [
              0.1111111111111111,
              "#46039f"
             ],
             [
              0.2222222222222222,
              "#7201a8"
             ],
             [
              0.3333333333333333,
              "#9c179e"
             ],
             [
              0.4444444444444444,
              "#bd3786"
             ],
             [
              0.5555555555555556,
              "#d8576b"
             ],
             [
              0.6666666666666666,
              "#ed7953"
             ],
             [
              0.7777777777777778,
              "#fb9f3a"
             ],
             [
              0.8888888888888888,
              "#fdca26"
             ],
             [
              1,
              "#f0f921"
             ]
            ],
            "type": "contour"
           }
          ],
          "contourcarpet": [
           {
            "colorbar": {
             "outlinewidth": 0,
             "ticks": ""
            },
            "type": "contourcarpet"
           }
          ],
          "heatmap": [
           {
            "colorbar": {
             "outlinewidth": 0,
             "ticks": ""
            },
            "colorscale": [
             [
              0,
              "#0d0887"
             ],
             [
              0.1111111111111111,
              "#46039f"
             ],
             [
              0.2222222222222222,
              "#7201a8"
             ],
             [
              0.3333333333333333,
              "#9c179e"
             ],
             [
              0.4444444444444444,
              "#bd3786"
             ],
             [
              0.5555555555555556,
              "#d8576b"
             ],
             [
              0.6666666666666666,
              "#ed7953"
             ],
             [
              0.7777777777777778,
              "#fb9f3a"
             ],
             [
              0.8888888888888888,
              "#fdca26"
             ],
             [
              1,
              "#f0f921"
             ]
            ],
            "type": "heatmap"
           }
          ],
          "heatmapgl": [
           {
            "colorbar": {
             "outlinewidth": 0,
             "ticks": ""
            },
            "colorscale": [
             [
              0,
              "#0d0887"
             ],
             [
              0.1111111111111111,
              "#46039f"
             ],
             [
              0.2222222222222222,
              "#7201a8"
             ],
             [
              0.3333333333333333,
              "#9c179e"
             ],
             [
              0.4444444444444444,
              "#bd3786"
             ],
             [
              0.5555555555555556,
              "#d8576b"
             ],
             [
              0.6666666666666666,
              "#ed7953"
             ],
             [
              0.7777777777777778,
              "#fb9f3a"
             ],
             [
              0.8888888888888888,
              "#fdca26"
             ],
             [
              1,
              "#f0f921"
             ]
            ],
            "type": "heatmapgl"
           }
          ],
          "histogram": [
           {
            "marker": {
             "colorbar": {
              "outlinewidth": 0,
              "ticks": ""
             }
            },
            "type": "histogram"
           }
          ],
          "histogram2d": [
           {
            "colorbar": {
             "outlinewidth": 0,
             "ticks": ""
            },
            "colorscale": [
             [
              0,
              "#0d0887"
             ],
             [
              0.1111111111111111,
              "#46039f"
             ],
             [
              0.2222222222222222,
              "#7201a8"
             ],
             [
              0.3333333333333333,
              "#9c179e"
             ],
             [
              0.4444444444444444,
              "#bd3786"
             ],
             [
              0.5555555555555556,
              "#d8576b"
             ],
             [
              0.6666666666666666,
              "#ed7953"
             ],
             [
              0.7777777777777778,
              "#fb9f3a"
             ],
             [
              0.8888888888888888,
              "#fdca26"
             ],
             [
              1,
              "#f0f921"
             ]
            ],
            "type": "histogram2d"
           }
          ],
          "histogram2dcontour": [
           {
            "colorbar": {
             "outlinewidth": 0,
             "ticks": ""
            },
            "colorscale": [
             [
              0,
              "#0d0887"
             ],
             [
              0.1111111111111111,
              "#46039f"
             ],
             [
              0.2222222222222222,
              "#7201a8"
             ],
             [
              0.3333333333333333,
              "#9c179e"
             ],
             [
              0.4444444444444444,
              "#bd3786"
             ],
             [
              0.5555555555555556,
              "#d8576b"
             ],
             [
              0.6666666666666666,
              "#ed7953"
             ],
             [
              0.7777777777777778,
              "#fb9f3a"
             ],
             [
              0.8888888888888888,
              "#fdca26"
             ],
             [
              1,
              "#f0f921"
             ]
            ],
            "type": "histogram2dcontour"
           }
          ],
          "mesh3d": [
           {
            "colorbar": {
             "outlinewidth": 0,
             "ticks": ""
            },
            "type": "mesh3d"
           }
          ],
          "parcoords": [
           {
            "line": {
             "colorbar": {
              "outlinewidth": 0,
              "ticks": ""
             }
            },
            "type": "parcoords"
           }
          ],
          "pie": [
           {
            "automargin": true,
            "type": "pie"
           }
          ],
          "scatter": [
           {
            "marker": {
             "colorbar": {
              "outlinewidth": 0,
              "ticks": ""
             }
            },
            "type": "scatter"
           }
          ],
          "scatter3d": [
           {
            "line": {
             "colorbar": {
              "outlinewidth": 0,
              "ticks": ""
             }
            },
            "marker": {
             "colorbar": {
              "outlinewidth": 0,
              "ticks": ""
             }
            },
            "type": "scatter3d"
           }
          ],
          "scattercarpet": [
           {
            "marker": {
             "colorbar": {
              "outlinewidth": 0,
              "ticks": ""
             }
            },
            "type": "scattercarpet"
           }
          ],
          "scattergeo": [
           {
            "marker": {
             "colorbar": {
              "outlinewidth": 0,
              "ticks": ""
             }
            },
            "type": "scattergeo"
           }
          ],
          "scattergl": [
           {
            "marker": {
             "colorbar": {
              "outlinewidth": 0,
              "ticks": ""
             }
            },
            "type": "scattergl"
           }
          ],
          "scattermapbox": [
           {
            "marker": {
             "colorbar": {
              "outlinewidth": 0,
              "ticks": ""
             }
            },
            "type": "scattermapbox"
           }
          ],
          "scatterpolar": [
           {
            "marker": {
             "colorbar": {
              "outlinewidth": 0,
              "ticks": ""
             }
            },
            "type": "scatterpolar"
           }
          ],
          "scatterpolargl": [
           {
            "marker": {
             "colorbar": {
              "outlinewidth": 0,
              "ticks": ""
             }
            },
            "type": "scatterpolargl"
           }
          ],
          "scatterternary": [
           {
            "marker": {
             "colorbar": {
              "outlinewidth": 0,
              "ticks": ""
             }
            },
            "type": "scatterternary"
           }
          ],
          "surface": [
           {
            "colorbar": {
             "outlinewidth": 0,
             "ticks": ""
            },
            "colorscale": [
             [
              0,
              "#0d0887"
             ],
             [
              0.1111111111111111,
              "#46039f"
             ],
             [
              0.2222222222222222,
              "#7201a8"
             ],
             [
              0.3333333333333333,
              "#9c179e"
             ],
             [
              0.4444444444444444,
              "#bd3786"
             ],
             [
              0.5555555555555556,
              "#d8576b"
             ],
             [
              0.6666666666666666,
              "#ed7953"
             ],
             [
              0.7777777777777778,
              "#fb9f3a"
             ],
             [
              0.8888888888888888,
              "#fdca26"
             ],
             [
              1,
              "#f0f921"
             ]
            ],
            "type": "surface"
           }
          ],
          "table": [
           {
            "cells": {
             "fill": {
              "color": "#EBF0F8"
             },
             "line": {
              "color": "white"
             }
            },
            "header": {
             "fill": {
              "color": "#C8D4E3"
             },
             "line": {
              "color": "white"
             }
            },
            "type": "table"
           }
          ]
         },
         "layout": {
          "annotationdefaults": {
           "arrowcolor": "#2a3f5f",
           "arrowhead": 0,
           "arrowwidth": 1
          },
          "autotypenumbers": "strict",
          "coloraxis": {
           "colorbar": {
            "outlinewidth": 0,
            "ticks": ""
           }
          },
          "colorscale": {
           "diverging": [
            [
             0,
             "#8e0152"
            ],
            [
             0.1,
             "#c51b7d"
            ],
            [
             0.2,
             "#de77ae"
            ],
            [
             0.3,
             "#f1b6da"
            ],
            [
             0.4,
             "#fde0ef"
            ],
            [
             0.5,
             "#f7f7f7"
            ],
            [
             0.6,
             "#e6f5d0"
            ],
            [
             0.7,
             "#b8e186"
            ],
            [
             0.8,
             "#7fbc41"
            ],
            [
             0.9,
             "#4d9221"
            ],
            [
             1,
             "#276419"
            ]
           ],
           "sequential": [
            [
             0,
             "#0d0887"
            ],
            [
             0.1111111111111111,
             "#46039f"
            ],
            [
             0.2222222222222222,
             "#7201a8"
            ],
            [
             0.3333333333333333,
             "#9c179e"
            ],
            [
             0.4444444444444444,
             "#bd3786"
            ],
            [
             0.5555555555555556,
             "#d8576b"
            ],
            [
             0.6666666666666666,
             "#ed7953"
            ],
            [
             0.7777777777777778,
             "#fb9f3a"
            ],
            [
             0.8888888888888888,
             "#fdca26"
            ],
            [
             1,
             "#f0f921"
            ]
           ],
           "sequentialminus": [
            [
             0,
             "#0d0887"
            ],
            [
             0.1111111111111111,
             "#46039f"
            ],
            [
             0.2222222222222222,
             "#7201a8"
            ],
            [
             0.3333333333333333,
             "#9c179e"
            ],
            [
             0.4444444444444444,
             "#bd3786"
            ],
            [
             0.5555555555555556,
             "#d8576b"
            ],
            [
             0.6666666666666666,
             "#ed7953"
            ],
            [
             0.7777777777777778,
             "#fb9f3a"
            ],
            [
             0.8888888888888888,
             "#fdca26"
            ],
            [
             1,
             "#f0f921"
            ]
           ]
          },
          "colorway": [
           "#636efa",
           "#EF553B",
           "#00cc96",
           "#ab63fa",
           "#FFA15A",
           "#19d3f3",
           "#FF6692",
           "#B6E880",
           "#FF97FF",
           "#FECB52"
          ],
          "font": {
           "color": "#2a3f5f"
          },
          "geo": {
           "bgcolor": "white",
           "lakecolor": "white",
           "landcolor": "#E5ECF6",
           "showlakes": true,
           "showland": true,
           "subunitcolor": "white"
          },
          "hoverlabel": {
           "align": "left"
          },
          "hovermode": "closest",
          "mapbox": {
           "style": "light"
          },
          "paper_bgcolor": "white",
          "plot_bgcolor": "#E5ECF6",
          "polar": {
           "angularaxis": {
            "gridcolor": "white",
            "linecolor": "white",
            "ticks": ""
           },
           "bgcolor": "#E5ECF6",
           "radialaxis": {
            "gridcolor": "white",
            "linecolor": "white",
            "ticks": ""
           }
          },
          "scene": {
           "xaxis": {
            "backgroundcolor": "#E5ECF6",
            "gridcolor": "white",
            "gridwidth": 2,
            "linecolor": "white",
            "showbackground": true,
            "ticks": "",
            "zerolinecolor": "white"
           },
           "yaxis": {
            "backgroundcolor": "#E5ECF6",
            "gridcolor": "white",
            "gridwidth": 2,
            "linecolor": "white",
            "showbackground": true,
            "ticks": "",
            "zerolinecolor": "white"
           },
           "zaxis": {
            "backgroundcolor": "#E5ECF6",
            "gridcolor": "white",
            "gridwidth": 2,
            "linecolor": "white",
            "showbackground": true,
            "ticks": "",
            "zerolinecolor": "white"
           }
          },
          "shapedefaults": {
           "line": {
            "color": "#2a3f5f"
           }
          },
          "ternary": {
           "aaxis": {
            "gridcolor": "white",
            "linecolor": "white",
            "ticks": ""
           },
           "baxis": {
            "gridcolor": "white",
            "linecolor": "white",
            "ticks": ""
           },
           "bgcolor": "#E5ECF6",
           "caxis": {
            "gridcolor": "white",
            "linecolor": "white",
            "ticks": ""
           }
          },
          "title": {
           "x": 0.05
          },
          "xaxis": {
           "automargin": true,
           "gridcolor": "white",
           "linecolor": "white",
           "ticks": "",
           "title": {
            "standoff": 15
           },
           "zerolinecolor": "white",
           "zerolinewidth": 2
          },
          "yaxis": {
           "automargin": true,
           "gridcolor": "white",
           "linecolor": "white",
           "ticks": "",
           "title": {
            "standoff": 15
           },
           "zerolinecolor": "white",
           "zerolinewidth": 2
          }
         }
        },
        "title": {
         "text": "Brachistochrone path (velocity as overlay number)"
        },
        "updatemenus": [
         {
          "buttons": [
           {
            "args": [
             null,
             {
              "frame": {
               "duration": 500,
               "redraw": false
              },
              "fromcurrent": true,
              "mode": "immediate",
              "transition": {
               "duration": 500,
               "easing": "linear"
              }
             }
            ],
            "label": "&#9654;",
            "method": "animate"
           },
           {
            "args": [
             [
              null
             ],
             {
              "frame": {
               "duration": 0,
               "redraw": false
              },
              "fromcurrent": true,
              "mode": "immediate",
              "transition": {
               "duration": 0,
               "easing": "linear"
              }
             }
            ],
            "label": "&#9724;",
            "method": "animate"
           }
          ],
          "direction": "left",
          "pad": {
           "r": 10,
           "t": 70
          },
          "showactive": false,
          "type": "buttons",
          "x": 0.1,
          "xanchor": "right",
          "y": 0,
          "yanchor": "top"
         }
        ],
        "xaxis": {
         "anchor": "y",
         "domain": [
          0,
          1
         ],
         "title": {
          "text": "x"
         }
        },
        "yaxis": {
         "anchor": "x",
         "domain": [
          0,
          1
         ],
         "title": {
          "text": "y"
         }
        }
       }
      },
      "text/html": [
       "<div>                            <div id=\"e368fe3d-ad13-483d-88d2-5e845b1d14ad\" class=\"plotly-graph-div\" style=\"height:525px; width:100%;\"></div>            <script type=\"text/javascript\">                require([\"plotly\"], function(Plotly) {                    window.PLOTLYENV=window.PLOTLYENV || {};                                    if (document.getElementById(\"e368fe3d-ad13-483d-88d2-5e845b1d14ad\")) {                    Plotly.newPlot(                        \"e368fe3d-ad13-483d-88d2-5e845b1d14ad\",                        [{\"hovertemplate\": \"time=0.0<br>x=%{x}<br>y=%{y}<br>size=%{marker.size}<br>velocity=%{text}<extra></extra>\", \"legendgroup\": \"\", \"marker\": {\"color\": \"red\", \"size\": [0.05], \"sizemode\": \"area\", \"sizeref\": 0.000125, \"symbol\": \"circle\"}, \"mode\": \"markers+text\", \"name\": \"\", \"orientation\": \"v\", \"showlegend\": false, \"text\": [\"0.0 m/s\"], \"type\": \"scatter\", \"x\": [0.0], \"xaxis\": \"x\", \"y\": [0.009090909090909092], \"yaxis\": \"y\"}, {\"hovertemplate\": \"x=%{x}<br>y=%{y}<extra></extra>\", \"legendgroup\": \"\", \"line\": {\"color\": \"#636efa\", \"dash\": \"solid\"}, \"marker\": {\"color\": \"red\"}, \"mode\": \"lines\", \"name\": \"\", \"orientation\": \"v\", \"showlegend\": false, \"type\": \"scatter\", \"x\": [0.0, 0.012808577306309476, 0.037380554012822385, 0.07267523762246701, 0.11767420801950346, 0.1713941496242448, 0.23289631547774867, 0.30128263856412113, 0.37569625021212494, 0.45532191264691746, 0.5393736738408531, 0.6270917536253602, 0.7177400222785499, 0.8105902904404356, 0.904918295868728, 1.0], \"xaxis\": \"x\", \"y\": [0.0, -0.004159643966246111, -0.011265482530869037, -0.02034745667409884, -0.030632630326160985, -0.04150806488685285, -0.05249048839256701, -0.06319789786025681, -0.07332915451836229, -0.08264743131410769, -0.09096409482845741, -0.09812866800194281, -0.10402079565500524, -0.10854241430676817, -0.1116143221058061, -0.11317391265481312], \"yaxis\": \"y\"}],                        {\"legend\": {\"itemsizing\": \"constant\", \"tracegroupgap\": 0}, \"sliders\": [{\"active\": 0, \"currentvalue\": {\"prefix\": \"time=\"}, \"len\": 0.9, \"pad\": {\"b\": 10, \"t\": 60}, \"steps\": [{\"args\": [[\"0.0\"], {\"frame\": {\"duration\": 0, \"redraw\": false}, \"fromcurrent\": true, \"mode\": \"immediate\", \"transition\": {\"duration\": 0, \"easing\": \"linear\"}}], \"label\": \"0.0\", \"method\": \"animate\"}, {\"args\": [[\"0.066667\"], {\"frame\": {\"duration\": 0, \"redraw\": false}, \"fromcurrent\": true, \"mode\": \"immediate\", \"transition\": {\"duration\": 0, \"easing\": \"linear\"}}], \"label\": \"0.066667\", \"method\": \"animate\"}, {\"args\": [[\"0.133333\"], {\"frame\": {\"duration\": 0, \"redraw\": false}, \"fromcurrent\": true, \"mode\": \"immediate\", \"transition\": {\"duration\": 0, \"easing\": \"linear\"}}], \"label\": \"0.133333\", \"method\": \"animate\"}, {\"args\": [[\"0.2\"], {\"frame\": {\"duration\": 0, \"redraw\": false}, \"fromcurrent\": true, \"mode\": \"immediate\", \"transition\": {\"duration\": 0, \"easing\": \"linear\"}}], \"label\": \"0.2\", \"method\": \"animate\"}, {\"args\": [[\"0.266667\"], {\"frame\": {\"duration\": 0, \"redraw\": false}, \"fromcurrent\": true, \"mode\": \"immediate\", \"transition\": {\"duration\": 0, \"easing\": \"linear\"}}], \"label\": \"0.266667\", \"method\": \"animate\"}, {\"args\": [[\"0.333333\"], {\"frame\": {\"duration\": 0, \"redraw\": false}, \"fromcurrent\": true, \"mode\": \"immediate\", \"transition\": {\"duration\": 0, \"easing\": \"linear\"}}], \"label\": \"0.333333\", \"method\": \"animate\"}, {\"args\": [[\"0.4\"], {\"frame\": {\"duration\": 0, \"redraw\": false}, \"fromcurrent\": true, \"mode\": \"immediate\", \"transition\": {\"duration\": 0, \"easing\": \"linear\"}}], \"label\": \"0.4\", \"method\": \"animate\"}, {\"args\": [[\"0.466667\"], {\"frame\": {\"duration\": 0, \"redraw\": false}, \"fromcurrent\": true, \"mode\": \"immediate\", \"transition\": {\"duration\": 0, \"easing\": \"linear\"}}], \"label\": \"0.466667\", \"method\": \"animate\"}, {\"args\": [[\"0.533333\"], {\"frame\": {\"duration\": 0, \"redraw\": false}, \"fromcurrent\": true, \"mode\": \"immediate\", \"transition\": {\"duration\": 0, \"easing\": \"linear\"}}], \"label\": \"0.533333\", \"method\": \"animate\"}, {\"args\": [[\"0.6\"], {\"frame\": {\"duration\": 0, \"redraw\": false}, \"fromcurrent\": true, \"mode\": \"immediate\", \"transition\": {\"duration\": 0, \"easing\": \"linear\"}}], \"label\": \"0.6\", \"method\": \"animate\"}, {\"args\": [[\"0.666667\"], {\"frame\": {\"duration\": 0, \"redraw\": false}, \"fromcurrent\": true, \"mode\": \"immediate\", \"transition\": {\"duration\": 0, \"easing\": \"linear\"}}], \"label\": \"0.666667\", \"method\": \"animate\"}, {\"args\": [[\"0.733333\"], {\"frame\": {\"duration\": 0, \"redraw\": false}, \"fromcurrent\": true, \"mode\": \"immediate\", \"transition\": {\"duration\": 0, \"easing\": \"linear\"}}], \"label\": \"0.733333\", \"method\": \"animate\"}, {\"args\": [[\"0.8\"], {\"frame\": {\"duration\": 0, \"redraw\": false}, \"fromcurrent\": true, \"mode\": \"immediate\", \"transition\": {\"duration\": 0, \"easing\": \"linear\"}}], \"label\": \"0.8\", \"method\": \"animate\"}, {\"args\": [[\"0.866667\"], {\"frame\": {\"duration\": 0, \"redraw\": false}, \"fromcurrent\": true, \"mode\": \"immediate\", \"transition\": {\"duration\": 0, \"easing\": \"linear\"}}], \"label\": \"0.866667\", \"method\": \"animate\"}, {\"args\": [[\"0.933333\"], {\"frame\": {\"duration\": 0, \"redraw\": false}, \"fromcurrent\": true, \"mode\": \"immediate\", \"transition\": {\"duration\": 0, \"easing\": \"linear\"}}], \"label\": \"0.933333\", \"method\": \"animate\"}, {\"args\": [[\"1.0\"], {\"frame\": {\"duration\": 0, \"redraw\": false}, \"fromcurrent\": true, \"mode\": \"immediate\", \"transition\": {\"duration\": 0, \"easing\": \"linear\"}}], \"label\": \"1.0\", \"method\": \"animate\"}], \"x\": 0.1, \"xanchor\": \"left\", \"y\": 0, \"yanchor\": \"top\"}], \"template\": {\"data\": {\"bar\": [{\"error_x\": {\"color\": \"#2a3f5f\"}, \"error_y\": {\"color\": \"#2a3f5f\"}, \"marker\": {\"line\": {\"color\": \"#E5ECF6\", \"width\": 0.5}}, \"type\": \"bar\"}], \"barpolar\": [{\"marker\": {\"line\": {\"color\": \"#E5ECF6\", \"width\": 0.5}}, \"type\": \"barpolar\"}], \"carpet\": [{\"aaxis\": {\"endlinecolor\": \"#2a3f5f\", \"gridcolor\": \"white\", \"linecolor\": \"white\", \"minorgridcolor\": \"white\", \"startlinecolor\": \"#2a3f5f\"}, \"baxis\": {\"endlinecolor\": \"#2a3f5f\", \"gridcolor\": \"white\", \"linecolor\": \"white\", \"minorgridcolor\": \"white\", \"startlinecolor\": \"#2a3f5f\"}, \"type\": \"carpet\"}], \"choropleth\": [{\"colorbar\": {\"outlinewidth\": 0, \"ticks\": \"\"}, \"type\": \"choropleth\"}], \"contour\": [{\"colorbar\": {\"outlinewidth\": 0, \"ticks\": \"\"}, \"colorscale\": [[0.0, \"#0d0887\"], [0.1111111111111111, \"#46039f\"], [0.2222222222222222, \"#7201a8\"], [0.3333333333333333, \"#9c179e\"], [0.4444444444444444, \"#bd3786\"], [0.5555555555555556, \"#d8576b\"], [0.6666666666666666, \"#ed7953\"], [0.7777777777777778, \"#fb9f3a\"], [0.8888888888888888, \"#fdca26\"], [1.0, \"#f0f921\"]], \"type\": \"contour\"}], \"contourcarpet\": [{\"colorbar\": {\"outlinewidth\": 0, \"ticks\": \"\"}, \"type\": \"contourcarpet\"}], \"heatmap\": [{\"colorbar\": {\"outlinewidth\": 0, \"ticks\": \"\"}, \"colorscale\": [[0.0, \"#0d0887\"], [0.1111111111111111, \"#46039f\"], [0.2222222222222222, \"#7201a8\"], [0.3333333333333333, \"#9c179e\"], [0.4444444444444444, \"#bd3786\"], [0.5555555555555556, \"#d8576b\"], [0.6666666666666666, \"#ed7953\"], [0.7777777777777778, \"#fb9f3a\"], [0.8888888888888888, \"#fdca26\"], [1.0, \"#f0f921\"]], \"type\": \"heatmap\"}], \"heatmapgl\": [{\"colorbar\": {\"outlinewidth\": 0, \"ticks\": \"\"}, \"colorscale\": [[0.0, \"#0d0887\"], [0.1111111111111111, \"#46039f\"], [0.2222222222222222, \"#7201a8\"], [0.3333333333333333, \"#9c179e\"], [0.4444444444444444, \"#bd3786\"], [0.5555555555555556, \"#d8576b\"], [0.6666666666666666, \"#ed7953\"], [0.7777777777777778, \"#fb9f3a\"], [0.8888888888888888, \"#fdca26\"], [1.0, \"#f0f921\"]], \"type\": \"heatmapgl\"}], \"histogram\": [{\"marker\": {\"colorbar\": {\"outlinewidth\": 0, \"ticks\": \"\"}}, \"type\": \"histogram\"}], \"histogram2d\": [{\"colorbar\": {\"outlinewidth\": 0, \"ticks\": \"\"}, \"colorscale\": [[0.0, \"#0d0887\"], [0.1111111111111111, \"#46039f\"], [0.2222222222222222, \"#7201a8\"], [0.3333333333333333, \"#9c179e\"], [0.4444444444444444, \"#bd3786\"], [0.5555555555555556, \"#d8576b\"], [0.6666666666666666, \"#ed7953\"], [0.7777777777777778, \"#fb9f3a\"], [0.8888888888888888, \"#fdca26\"], [1.0, \"#f0f921\"]], \"type\": \"histogram2d\"}], \"histogram2dcontour\": [{\"colorbar\": {\"outlinewidth\": 0, \"ticks\": \"\"}, \"colorscale\": [[0.0, \"#0d0887\"], [0.1111111111111111, \"#46039f\"], [0.2222222222222222, \"#7201a8\"], [0.3333333333333333, \"#9c179e\"], [0.4444444444444444, \"#bd3786\"], [0.5555555555555556, \"#d8576b\"], [0.6666666666666666, \"#ed7953\"], [0.7777777777777778, \"#fb9f3a\"], [0.8888888888888888, \"#fdca26\"], [1.0, \"#f0f921\"]], \"type\": \"histogram2dcontour\"}], \"mesh3d\": [{\"colorbar\": {\"outlinewidth\": 0, \"ticks\": \"\"}, \"type\": \"mesh3d\"}], \"parcoords\": [{\"line\": {\"colorbar\": {\"outlinewidth\": 0, \"ticks\": \"\"}}, \"type\": \"parcoords\"}], \"pie\": [{\"automargin\": true, \"type\": \"pie\"}], \"scatter\": [{\"marker\": {\"colorbar\": {\"outlinewidth\": 0, \"ticks\": \"\"}}, \"type\": \"scatter\"}], \"scatter3d\": [{\"line\": {\"colorbar\": {\"outlinewidth\": 0, \"ticks\": \"\"}}, \"marker\": {\"colorbar\": {\"outlinewidth\": 0, \"ticks\": \"\"}}, \"type\": \"scatter3d\"}], \"scattercarpet\": [{\"marker\": {\"colorbar\": {\"outlinewidth\": 0, \"ticks\": \"\"}}, \"type\": \"scattercarpet\"}], \"scattergeo\": [{\"marker\": {\"colorbar\": {\"outlinewidth\": 0, \"ticks\": \"\"}}, \"type\": \"scattergeo\"}], \"scattergl\": [{\"marker\": {\"colorbar\": {\"outlinewidth\": 0, \"ticks\": \"\"}}, \"type\": \"scattergl\"}], \"scattermapbox\": [{\"marker\": {\"colorbar\": {\"outlinewidth\": 0, \"ticks\": \"\"}}, \"type\": \"scattermapbox\"}], \"scatterpolar\": [{\"marker\": {\"colorbar\": {\"outlinewidth\": 0, \"ticks\": \"\"}}, \"type\": \"scatterpolar\"}], \"scatterpolargl\": [{\"marker\": {\"colorbar\": {\"outlinewidth\": 0, \"ticks\": \"\"}}, \"type\": \"scatterpolargl\"}], \"scatterternary\": [{\"marker\": {\"colorbar\": {\"outlinewidth\": 0, \"ticks\": \"\"}}, \"type\": \"scatterternary\"}], \"surface\": [{\"colorbar\": {\"outlinewidth\": 0, \"ticks\": \"\"}, \"colorscale\": [[0.0, \"#0d0887\"], [0.1111111111111111, \"#46039f\"], [0.2222222222222222, \"#7201a8\"], [0.3333333333333333, \"#9c179e\"], [0.4444444444444444, \"#bd3786\"], [0.5555555555555556, \"#d8576b\"], [0.6666666666666666, \"#ed7953\"], [0.7777777777777778, \"#fb9f3a\"], [0.8888888888888888, \"#fdca26\"], [1.0, \"#f0f921\"]], \"type\": \"surface\"}], \"table\": [{\"cells\": {\"fill\": {\"color\": \"#EBF0F8\"}, \"line\": {\"color\": \"white\"}}, \"header\": {\"fill\": {\"color\": \"#C8D4E3\"}, \"line\": {\"color\": \"white\"}}, \"type\": \"table\"}]}, \"layout\": {\"annotationdefaults\": {\"arrowcolor\": \"#2a3f5f\", \"arrowhead\": 0, \"arrowwidth\": 1}, \"autotypenumbers\": \"strict\", \"coloraxis\": {\"colorbar\": {\"outlinewidth\": 0, \"ticks\": \"\"}}, \"colorscale\": {\"diverging\": [[0, \"#8e0152\"], [0.1, \"#c51b7d\"], [0.2, \"#de77ae\"], [0.3, \"#f1b6da\"], [0.4, \"#fde0ef\"], [0.5, \"#f7f7f7\"], [0.6, \"#e6f5d0\"], [0.7, \"#b8e186\"], [0.8, \"#7fbc41\"], [0.9, \"#4d9221\"], [1, \"#276419\"]], \"sequential\": [[0.0, \"#0d0887\"], [0.1111111111111111, \"#46039f\"], [0.2222222222222222, \"#7201a8\"], [0.3333333333333333, \"#9c179e\"], [0.4444444444444444, \"#bd3786\"], [0.5555555555555556, \"#d8576b\"], [0.6666666666666666, \"#ed7953\"], [0.7777777777777778, \"#fb9f3a\"], [0.8888888888888888, \"#fdca26\"], [1.0, \"#f0f921\"]], \"sequentialminus\": [[0.0, \"#0d0887\"], [0.1111111111111111, \"#46039f\"], [0.2222222222222222, \"#7201a8\"], [0.3333333333333333, \"#9c179e\"], [0.4444444444444444, \"#bd3786\"], [0.5555555555555556, \"#d8576b\"], [0.6666666666666666, \"#ed7953\"], [0.7777777777777778, \"#fb9f3a\"], [0.8888888888888888, \"#fdca26\"], [1.0, \"#f0f921\"]]}, \"colorway\": [\"#636efa\", \"#EF553B\", \"#00cc96\", \"#ab63fa\", \"#FFA15A\", \"#19d3f3\", \"#FF6692\", \"#B6E880\", \"#FF97FF\", \"#FECB52\"], \"font\": {\"color\": \"#2a3f5f\"}, \"geo\": {\"bgcolor\": \"white\", \"lakecolor\": \"white\", \"landcolor\": \"#E5ECF6\", \"showlakes\": true, \"showland\": true, \"subunitcolor\": \"white\"}, \"hoverlabel\": {\"align\": \"left\"}, \"hovermode\": \"closest\", \"mapbox\": {\"style\": \"light\"}, \"paper_bgcolor\": \"white\", \"plot_bgcolor\": \"#E5ECF6\", \"polar\": {\"angularaxis\": {\"gridcolor\": \"white\", \"linecolor\": \"white\", \"ticks\": \"\"}, \"bgcolor\": \"#E5ECF6\", \"radialaxis\": {\"gridcolor\": \"white\", \"linecolor\": \"white\", \"ticks\": \"\"}}, \"scene\": {\"xaxis\": {\"backgroundcolor\": \"#E5ECF6\", \"gridcolor\": \"white\", \"gridwidth\": 2, \"linecolor\": \"white\", \"showbackground\": true, \"ticks\": \"\", \"zerolinecolor\": \"white\"}, \"yaxis\": {\"backgroundcolor\": \"#E5ECF6\", \"gridcolor\": \"white\", \"gridwidth\": 2, \"linecolor\": \"white\", \"showbackground\": true, \"ticks\": \"\", \"zerolinecolor\": \"white\"}, \"zaxis\": {\"backgroundcolor\": \"#E5ECF6\", \"gridcolor\": \"white\", \"gridwidth\": 2, \"linecolor\": \"white\", \"showbackground\": true, \"ticks\": \"\", \"zerolinecolor\": \"white\"}}, \"shapedefaults\": {\"line\": {\"color\": \"#2a3f5f\"}}, \"ternary\": {\"aaxis\": {\"gridcolor\": \"white\", \"linecolor\": \"white\", \"ticks\": \"\"}, \"baxis\": {\"gridcolor\": \"white\", \"linecolor\": \"white\", \"ticks\": \"\"}, \"bgcolor\": \"#E5ECF6\", \"caxis\": {\"gridcolor\": \"white\", \"linecolor\": \"white\", \"ticks\": \"\"}}, \"title\": {\"x\": 0.05}, \"xaxis\": {\"automargin\": true, \"gridcolor\": \"white\", \"linecolor\": \"white\", \"ticks\": \"\", \"title\": {\"standoff\": 15}, \"zerolinecolor\": \"white\", \"zerolinewidth\": 2}, \"yaxis\": {\"automargin\": true, \"gridcolor\": \"white\", \"linecolor\": \"white\", \"ticks\": \"\", \"title\": {\"standoff\": 15}, \"zerolinecolor\": \"white\", \"zerolinewidth\": 2}}}, \"title\": {\"text\": \"Brachistochrone path (velocity as overlay number)\"}, \"updatemenus\": [{\"buttons\": [{\"args\": [null, {\"frame\": {\"duration\": 500, \"redraw\": false}, \"fromcurrent\": true, \"mode\": \"immediate\", \"transition\": {\"duration\": 500, \"easing\": \"linear\"}}], \"label\": \"&#9654;\", \"method\": \"animate\"}, {\"args\": [[null], {\"frame\": {\"duration\": 0, \"redraw\": false}, \"fromcurrent\": true, \"mode\": \"immediate\", \"transition\": {\"duration\": 0, \"easing\": \"linear\"}}], \"label\": \"&#9724;\", \"method\": \"animate\"}], \"direction\": \"left\", \"pad\": {\"r\": 10, \"t\": 70}, \"showactive\": false, \"type\": \"buttons\", \"x\": 0.1, \"xanchor\": \"right\", \"y\": 0, \"yanchor\": \"top\"}], \"xaxis\": {\"anchor\": \"y\", \"domain\": [0.0, 1.0], \"title\": {\"text\": \"x\"}}, \"yaxis\": {\"anchor\": \"x\", \"domain\": [0.0, 1.0], \"title\": {\"text\": \"y\"}}},                        {\"responsive\": true}                    ).then(function(){\n",
       "                            Plotly.addFrames('e368fe3d-ad13-483d-88d2-5e845b1d14ad', [{\"data\": [{\"hovertemplate\": \"time=0.0<br>x=%{x}<br>y=%{y}<br>size=%{marker.size}<br>velocity=%{text}<extra></extra>\", \"legendgroup\": \"\", \"marker\": {\"color\": \"#636efa\", \"size\": [0.05], \"sizemode\": \"area\", \"sizeref\": 0.000125, \"symbol\": \"circle\"}, \"mode\": \"markers+text\", \"name\": \"\", \"orientation\": \"v\", \"showlegend\": false, \"text\": [\"0.0 m/s\"], \"x\": [0.0], \"xaxis\": \"x\", \"y\": [0.009090909090909092], \"yaxis\": \"y\", \"type\": \"scatter\"}], \"name\": \"0.0\"}, {\"data\": [{\"hovertemplate\": \"time=0.066667<br>x=%{x}<br>y=%{y}<br>size=%{marker.size}<br>velocity=%{text}<extra></extra>\", \"legendgroup\": \"\", \"marker\": {\"color\": \"#636efa\", \"size\": [0.05], \"sizemode\": \"area\", \"sizeref\": 0.000125, \"symbol\": \"circle\"}, \"mode\": \"markers+text\", \"name\": \"\", \"orientation\": \"v\", \"showlegend\": false, \"text\": [\"0.2 m/s\"], \"x\": [0.012808577306309476], \"xaxis\": \"x\", \"y\": [0.004931265124662981], \"yaxis\": \"y\", \"type\": \"scatter\"}], \"name\": \"0.066667\"}, {\"data\": [{\"hovertemplate\": \"time=0.133333<br>x=%{x}<br>y=%{y}<br>size=%{marker.size}<br>velocity=%{text}<extra></extra>\", \"legendgroup\": \"\", \"marker\": {\"color\": \"#636efa\", \"size\": [0.05], \"sizemode\": \"area\", \"sizeref\": 0.000125, \"symbol\": \"circle\"}, \"mode\": \"markers+text\", \"name\": \"\", \"orientation\": \"v\", \"showlegend\": false, \"text\": [\"0.38 m/s\"], \"x\": [0.037380554012822385], \"xaxis\": \"x\", \"y\": [-0.0021745734399599443], \"yaxis\": \"y\", \"type\": \"scatter\"}], \"name\": \"0.133333\"}, {\"data\": [{\"hovertemplate\": \"time=0.2<br>x=%{x}<br>y=%{y}<br>size=%{marker.size}<br>velocity=%{text}<extra></extra>\", \"legendgroup\": \"\", \"marker\": {\"color\": \"#636efa\", \"size\": [0.05], \"sizemode\": \"area\", \"sizeref\": 0.000125, \"symbol\": \"circle\"}, \"mode\": \"markers+text\", \"name\": \"\", \"orientation\": \"v\", \"showlegend\": false, \"text\": [\"0.55 m/s\"], \"x\": [0.07267523762246701], \"xaxis\": \"x\", \"y\": [-0.011256547583189747], \"yaxis\": \"y\", \"type\": \"scatter\"}], \"name\": \"0.2\"}, {\"data\": [{\"hovertemplate\": \"time=0.266667<br>x=%{x}<br>y=%{y}<br>size=%{marker.size}<br>velocity=%{text}<extra></extra>\", \"legendgroup\": \"\", \"marker\": {\"color\": \"#636efa\", \"size\": [0.05], \"sizemode\": \"area\", \"sizeref\": 0.000125, \"symbol\": \"circle\"}, \"mode\": \"markers+text\", \"name\": \"\", \"orientation\": \"v\", \"showlegend\": false, \"text\": [\"0.69 m/s\"], \"x\": [0.11767420801950346], \"xaxis\": \"x\", \"y\": [-0.021541721235251894], \"yaxis\": \"y\", \"type\": \"scatter\"}], \"name\": \"0.266667\"}, {\"data\": [{\"hovertemplate\": \"time=0.333333<br>x=%{x}<br>y=%{y}<br>size=%{marker.size}<br>velocity=%{text}<extra></extra>\", \"legendgroup\": \"\", \"marker\": {\"color\": \"#636efa\", \"size\": [0.05], \"sizemode\": \"area\", \"sizeref\": 0.000125, \"symbol\": \"circle\"}, \"mode\": \"markers+text\", \"name\": \"\", \"orientation\": \"v\", \"showlegend\": false, \"text\": [\"0.82 m/s\"], \"x\": [0.1713941496242448], \"xaxis\": \"x\", \"y\": [-0.03241715579594376], \"yaxis\": \"y\", \"type\": \"scatter\"}], \"name\": \"0.333333\"}, {\"data\": [{\"hovertemplate\": \"time=0.4<br>x=%{x}<br>y=%{y}<br>size=%{marker.size}<br>velocity=%{text}<extra></extra>\", \"legendgroup\": \"\", \"marker\": {\"color\": \"#636efa\", \"size\": [0.05], \"sizemode\": \"area\", \"sizeref\": 0.000125, \"symbol\": \"circle\"}, \"mode\": \"markers+text\", \"name\": \"\", \"orientation\": \"v\", \"showlegend\": false, \"text\": [\"0.94 m/s\"], \"x\": [0.23289631547774867], \"xaxis\": \"x\", \"y\": [-0.043399579301657915], \"yaxis\": \"y\", \"type\": \"scatter\"}], \"name\": \"0.4\"}, {\"data\": [{\"hovertemplate\": \"time=0.466667<br>x=%{x}<br>y=%{y}<br>size=%{marker.size}<br>velocity=%{text}<extra></extra>\", \"legendgroup\": \"\", \"marker\": {\"color\": \"#636efa\", \"size\": [0.05], \"sizemode\": \"area\", \"sizeref\": 0.000125, \"symbol\": \"circle\"}, \"mode\": \"markers+text\", \"name\": \"\", \"orientation\": \"v\", \"showlegend\": false, \"text\": [\"1.04 m/s\"], \"x\": [0.30128263856412113], \"xaxis\": \"x\", \"y\": [-0.05410698876934772], \"yaxis\": \"y\", \"type\": \"scatter\"}], \"name\": \"0.466667\"}, {\"data\": [{\"hovertemplate\": \"time=0.533333<br>x=%{x}<br>y=%{y}<br>size=%{marker.size}<br>velocity=%{text}<extra></extra>\", \"legendgroup\": \"\", \"marker\": {\"color\": \"#636efa\", \"size\": [0.05], \"sizemode\": \"area\", \"sizeref\": 0.000125, \"symbol\": \"circle\"}, \"mode\": \"markers+text\", \"name\": \"\", \"orientation\": \"v\", \"showlegend\": false, \"text\": [\"1.13 m/s\"], \"x\": [0.37569625021212494], \"xaxis\": \"x\", \"y\": [-0.0642382454274532], \"yaxis\": \"y\", \"type\": \"scatter\"}], \"name\": \"0.533333\"}, {\"data\": [{\"hovertemplate\": \"time=0.6<br>x=%{x}<br>y=%{y}<br>size=%{marker.size}<br>velocity=%{text}<extra></extra>\", \"legendgroup\": \"\", \"marker\": {\"color\": \"#636efa\", \"size\": [0.05], \"sizemode\": \"area\", \"sizeref\": 0.000125, \"symbol\": \"circle\"}, \"mode\": \"markers+text\", \"name\": \"\", \"orientation\": \"v\", \"showlegend\": false, \"text\": [\"1.2 m/s\"], \"x\": [0.45532191264691746], \"xaxis\": \"x\", \"y\": [-0.0735565222231986], \"yaxis\": \"y\", \"type\": \"scatter\"}], \"name\": \"0.6\"}, {\"data\": [{\"hovertemplate\": \"time=0.666667<br>x=%{x}<br>y=%{y}<br>size=%{marker.size}<br>velocity=%{text}<extra></extra>\", \"legendgroup\": \"\", \"marker\": {\"color\": \"#636efa\", \"size\": [0.05], \"sizemode\": \"area\", \"sizeref\": 0.000125, \"symbol\": \"circle\"}, \"mode\": \"markers+text\", \"name\": \"\", \"orientation\": \"v\", \"showlegend\": false, \"text\": [\"1.27 m/s\"], \"x\": [0.5393736738408531], \"xaxis\": \"x\", \"y\": [-0.08187318573754832], \"yaxis\": \"y\", \"type\": \"scatter\"}], \"name\": \"0.666667\"}, {\"data\": [{\"hovertemplate\": \"time=0.733333<br>x=%{x}<br>y=%{y}<br>size=%{marker.size}<br>velocity=%{text}<extra></extra>\", \"legendgroup\": \"\", \"marker\": {\"color\": \"#636efa\", \"size\": [0.05], \"sizemode\": \"area\", \"sizeref\": 0.000125, \"symbol\": \"circle\"}, \"mode\": \"markers+text\", \"name\": \"\", \"orientation\": \"v\", \"showlegend\": false, \"text\": [\"1.32 m/s\"], \"x\": [0.6270917536253602], \"xaxis\": \"x\", \"y\": [-0.08903775891103372], \"yaxis\": \"y\", \"type\": \"scatter\"}], \"name\": \"0.733333\"}, {\"data\": [{\"hovertemplate\": \"time=0.8<br>x=%{x}<br>y=%{y}<br>size=%{marker.size}<br>velocity=%{text}<extra></extra>\", \"legendgroup\": \"\", \"marker\": {\"color\": \"#636efa\", \"size\": [0.05], \"sizemode\": \"area\", \"sizeref\": 0.000125, \"symbol\": \"circle\"}, \"mode\": \"markers+text\", \"name\": \"\", \"orientation\": \"v\", \"showlegend\": false, \"text\": [\"1.36 m/s\"], \"x\": [0.7177400222785499], \"xaxis\": \"x\", \"y\": [-0.09492988656409615], \"yaxis\": \"y\", \"type\": \"scatter\"}], \"name\": \"0.8\"}, {\"data\": [{\"hovertemplate\": \"time=0.866667<br>x=%{x}<br>y=%{y}<br>size=%{marker.size}<br>velocity=%{text}<extra></extra>\", \"legendgroup\": \"\", \"marker\": {\"color\": \"#636efa\", \"size\": [0.05], \"sizemode\": \"area\", \"sizeref\": 0.000125, \"symbol\": \"circle\"}, \"mode\": \"markers+text\", \"name\": \"\", \"orientation\": \"v\", \"showlegend\": false, \"text\": [\"1.39 m/s\"], \"x\": [0.8105902904404356], \"xaxis\": \"x\", \"y\": [-0.09945150521585908], \"yaxis\": \"y\", \"type\": \"scatter\"}], \"name\": \"0.866667\"}, {\"data\": [{\"hovertemplate\": \"time=0.933333<br>x=%{x}<br>y=%{y}<br>size=%{marker.size}<br>velocity=%{text}<extra></extra>\", \"legendgroup\": \"\", \"marker\": {\"color\": \"#636efa\", \"size\": [0.05], \"sizemode\": \"area\", \"sizeref\": 0.000125, \"symbol\": \"circle\"}, \"mode\": \"markers+text\", \"name\": \"\", \"orientation\": \"v\", \"showlegend\": false, \"text\": [\"1.42 m/s\"], \"x\": [0.904918295868728], \"xaxis\": \"x\", \"y\": [-0.10252341301489701], \"yaxis\": \"y\", \"type\": \"scatter\"}], \"name\": \"0.933333\"}, {\"data\": [{\"hovertemplate\": \"time=1.0<br>x=%{x}<br>y=%{y}<br>size=%{marker.size}<br>velocity=%{text}<extra></extra>\", \"legendgroup\": \"\", \"marker\": {\"color\": \"#636efa\", \"size\": [0.05], \"sizemode\": \"area\", \"sizeref\": 0.000125, \"symbol\": \"circle\"}, \"mode\": \"markers+text\", \"name\": \"\", \"orientation\": \"v\", \"showlegend\": false, \"text\": [\"1.43 m/s\"], \"x\": [1.0], \"xaxis\": \"x\", \"y\": [-0.10408300356390403], \"yaxis\": \"y\", \"type\": \"scatter\"}], \"name\": \"1.0\"}]);\n",
       "                        }).then(function(){\n",
       "                            \n",
       "var gd = document.getElementById('e368fe3d-ad13-483d-88d2-5e845b1d14ad');\n",
       "var x = new MutationObserver(function (mutations, observer) {{\n",
       "        var display = window.getComputedStyle(gd).display;\n",
       "        if (!display || display === 'none') {{\n",
       "            console.log([gd, 'removed!']);\n",
       "            Plotly.purge(gd);\n",
       "            observer.disconnect();\n",
       "        }}\n",
       "}});\n",
       "\n",
       "// Listen for the removal of the full notebook cells\n",
       "var notebookContainer = gd.closest('#notebook-container');\n",
       "if (notebookContainer) {{\n",
       "    x.observe(notebookContainer, {childList: true});\n",
       "}}\n",
       "\n",
       "// Listen for the clearing of the current output cell\n",
       "var outputEl = gd.closest('.output');\n",
       "if (outputEl) {{\n",
       "    x.observe(outputEl, {childList: true});\n",
       "}}\n",
       "\n",
       "                        })                };                });            </script>        </div>"
      ]
     },
     "metadata": {},
     "output_type": "display_data"
    }
   ],
   "source": [
    "# descend animation\n",
    "radius = 0.05\n",
    "ball_size = np.repeat(radius, x.size)\n",
    "animation = px.scatter(solution_data, \n",
    "                       x='x', \n",
    "                       y=solution_data.y+radius/5.5,\n",
    "                       animation_frame='time',\n",
    "                       text='velocity',\n",
    "                       size=ball_size,\n",
    "                       title=\"Brachistochrone path (velocity as overlay number)\")\n",
    "animation.add_traces(px.line(solution_data, x='x', y='y').data[0])\n",
    "animation.update_traces(marker_color='red')\n",
    "animation.show()"
   ]
  }
 ],
 "metadata": {
  "kernelspec": {
   "display_name": "PyCharm (Pyomo)",
   "language": "python",
   "name": "pycharm-1ce3949"
  },
  "language_info": {
   "codemirror_mode": {
    "name": "ipython",
    "version": 3
   },
   "file_extension": ".py",
   "mimetype": "text/x-python",
   "name": "python",
   "nbconvert_exporter": "python",
   "pygments_lexer": "ipython3",
   "version": "3.8.5"
  }
 },
 "nbformat": 4,
 "nbformat_minor": 4
}
