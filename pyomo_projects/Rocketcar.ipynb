{
 "cells": [
  {
   "cell_type": "markdown",
   "source": [
    "# Rocket Car\n",
    "\n",
    "The Rocket Car problem is a standard problem definition for Optimal Control with ODE Study.\n",
    "The solution is a well known framework to compare analytics and numerical solutions.\n",
    "The basic problem defines a Rocket Car that has to move from a point $A$ to a point $B$ and stop there.\n",
    "To achieve this a control $u(t)$ is used in a manner where when $u(t)>0$ there's an acceleration system, and\n",
    "when $u(t)<0$ there's a breaking system shooting in.\n",
    "\n",
    "For an addition of realism, a parameter of max_velocity can be defined, which changes the\n",
    "behavior of the system.\n",
    "\n",
    "Letting $\\phi(t)$ be the objective function to minimize, there exist basically 3 common definitions:\n",
    "* Time, $\\int_{0}^{T} 1 dt = T$\n",
    "* Energy, $\\int_{0}^{T} \\frac{1}{2} u(t)^2 dt$\n",
    "* Time and Energy combination, $\\int_{0}^{T} 1 dt + \\int_{0}^{T} \\frac{1}{2} u(t)^2 dt$\n",
    "\n",
    "# Problem Definition\n",
    "\n",
    "\\begin{equation}\n",
    "\\begin{array}{rrclcl}\n",
    "\\displaystyle \\min_{u} & \\phi(t)\\\\\n",
    "\\textrm{s.t.}\n",
    "&{\\dot s = v}\\\\\n",
    "&{\\dot v = u} \\\\\n",
    "&{s(0) = 0}    \\\\\n",
    "&{v(0) = 0}    \\\\\n",
    "&{v(t) \\leq v_max} \\\\\n",
    "&{r(T, y(t)) = \\begin{bmatrix}\n",
    "           s(T) -d \\\\\n",
    "           v(T) \\\\\n",
    "         \\end{bmatrix}} &=0   \\\\\n",
    "\\end{array}\n",
    "\\end{equation}\n",
    "\n",
    "-----------------\n",
    "\n",
    "![RocketCar](https://www.researchgate.net/profile/John_Burns6/publication/267218497/figure/fig5/AS:641369194364932@1529925740408/The-Rocket-Car-Control-Problem.png)"
   ],
   "metadata": {
    "collapsed": false
   }
  },
  {
   "cell_type": "code",
   "execution_count": 87,
   "outputs": [],
   "source": [
    "# importing required packages.\n",
    "import pandas as pd\n",
    "import matplotlib.pyplot as plt\n",
    "import numpy as np\n",
    "import pyomo.environ as env\n",
    "import pyomo.dae as dae\n",
    "import plotly.express as px"
   ],
   "metadata": {
    "collapsed": false,
    "pycharm": {
     "name": "#%%\n"
    }
   }
  },
  {
   "cell_type": "markdown",
   "source": [
    "Following an example for solving energy minimization."
   ],
   "metadata": {
    "collapsed": false,
    "pycharm": {
     "name": "#%% md\n"
    }
   }
  },
  {
   "cell_type": "code",
   "execution_count": 88,
   "outputs": [
    {
     "data": {
      "text/plain": "<Figure size 432x288 with 2 Axes>",
      "image/png": "[encoded data removed]"
     },
     "metadata": {
      "needs_background": "light"
     },
     "output_type": "display_data"
    }
   ],
   "source": [
    "# Initialize general tuning variables\n",
    "t_f = 1\n",
    "control = 15\n",
    "distance = 1\n",
    "velocity_max = 1.2 # when no max velocity bound is required, set this to np.inf\n",
    "\n",
    "# Initialize model object\n",
    "rocket_energy = env.ConcreteModel()\n",
    "\n",
    "# Initialize time variable\n",
    "# rocket_energy.tf = env.Var(domain=env.NonNegativeReals)\n",
    "rocket_energy.t = dae.ContinuousSet(bounds=(0, t_f))\n",
    "\n",
    "# Define control\n",
    "rocket_energy.u = env.Var(rocket_energy.t, bounds=(-control, control))\n",
    "\n",
    "\n",
    "# Define dependent variables\n",
    "rocket_energy.x = env.Var(rocket_energy.t)\n",
    "rocket_energy.v = env.Var(rocket_energy.t, bounds=(0, velocity_max))\n",
    "\n",
    "# Define derivatives\n",
    "rocket_energy.x_dot = dae.DerivativeVar(rocket_energy.x)\n",
    "rocket_energy.v_dot = dae.DerivativeVar(rocket_energy.v)\n",
    "\n",
    "# Define ODE constraints\n",
    "rocket_energy.ode_x = env.Constraint(rocket_energy.t, rule=lambda m, t: m.x_dot[t] == m.v[t])\n",
    "rocket_energy.ode_v = env.Constraint(rocket_energy.t, rule=lambda m, t: m.v_dot[t] == m.u[t])\n",
    "\n",
    "# Set initial and final conditions\n",
    "rocket_energy.bounds = env.ConstraintList()\n",
    "rocket_energy.bounds.add(rocket_energy.x[0] == 0)\n",
    "rocket_energy.bounds.add(rocket_energy.v[0] == 0)\n",
    "rocket_energy.bounds.add(rocket_energy.x[t_f] == distance)\n",
    "rocket_energy.bounds.add(rocket_energy.v[t_f] == 0)\n",
    "\n",
    "# Define model objective\n",
    "rocket_energy.Integral = dae.Integral(rocket_energy.t, wrt=rocket_energy.t, rule=lambda m, t: 0.5*(m.u[t]**2))\n",
    "rocket_energy.objective = env.Objective(expr=rocket_energy.Integral)\n",
    "\n",
    "# %% Solve system\n",
    "env.TransformationFactory('dae.finite_difference').apply_to(rocket_energy, wrt=rocket_energy.t, nfe=25)\n",
    "env.SolverFactory('ipopt').solve(rocket_energy)\n",
    "\n",
    "# %% Plotting results\n",
    "time = np.array([t for t in rocket_energy.t])\n",
    "x = np.array([rocket_energy.x[t]() for t in rocket_energy.t])\n",
    "v = np.array([rocket_energy.v[t]() for t in rocket_energy.t])\n",
    "u = np.array([rocket_energy.u[t]() for t in rocket_energy.t])\n",
    "text_display = np.array([str(round(rocket_energy.u[t](), 2))+\"m/s \"+\n",
    "                         str(round(rocket_energy.u[t](), 2))+\"m/s^2\"\n",
    "                         for t in rocket_energy.t])\n",
    "solution_rocket_energy = pd.DataFrame(data={'time': time,\n",
    "                                            'position': x,\n",
    "                                            'y': np.zeros(x.__len__()),\n",
    "                                            'velocity': v,\n",
    "                                            'control': u,\n",
    "                                            'text': text_display})\n",
    "\n",
    "fig, axes = plt.subplots(nrows=1, ncols=2)\n",
    "fig.tight_layout()\n",
    "axes[0].plot(time, x, label=\"path change\")\n",
    "axes[0].plot(time, v, label=\"velocity change\")\n",
    "axes[0].set_title(\"Path of Car\")\n",
    "axes[0].legend()\n",
    "\n",
    "for i in range(np.size(u)-1):\n",
    "    u_temp = ([u[i], u[i]])\n",
    "    x_temp = ([time[i], time[i+1]])\n",
    "    axes[1].plot(x_temp, u_temp, '-', lw=2, color='k')\n",
    "axes[1].set_title(\"Control change over time mesh\")\n",
    "plt.show()"
   ],
   "metadata": {
    "collapsed": false,
    "pycharm": {
     "name": "#%%\n"
    }
   }
  },
  {
   "cell_type": "code",
   "execution_count": 89,
   "outputs": [
    {
     "data": {
      "application/vnd.plotly.v1+json": {
       "config": {
        "plotlyServerURL": "https://plot.ly"
       },
       "data": [
        {
         "hovertemplate": "time=0.0<br>position=%{x}<br>y=%{y}<br>text=%{text}<extra></extra>",
         "legendgroup": "",
         "marker": {
          "color": "#636efa",
          "symbol": "circle"
         },
         "mode": "markers+text",
         "name": "",
         "orientation": "v",
         "showlegend": false,
         "text": [
          "0.0m/s 0.0m/s^2"
         ],
         "type": "scatter",
         "x": [
          0.0
         ],
         "xaxis": "x",
         "y": [
          0.0
         ],
         "yaxis": "y"
        },
        {
         "hovertemplate": "position=%{x}<br>y=%{y}<extra></extra>",
         "legendgroup": "",
         "line": {
          "color": "#636efa",
          "dash": "solid"
         },
         "marker": {
          "color": "red"
         },
         "mode": "lines",
         "name": "",
         "orientation": "v",
         "showlegend": false,
         "type": "scatter",
         "x": [
          0.0,
          0.012452648251160636,
          0.035492776281901076,
          0.0672552156280279,
          0.1058747978304251,
          0.14948635443790717,
          0.19622471701909439,
          0.24422471723335884,
          0.29222471762737307,
          0.3402247180213874,
          0.38822471841540174,
          0.436224718809416,
          0.4842247192034302,
          0.5322247195974446,
          0.5802247199914589,
          0.6282247203854731,
          0.6762247207794874,
          0.7242247211735017,
          0.7722247215675156,
          0.8202247215711099,
          0.8666966313392935,
          0.9097752825092605,
          0.947595506645642,
          0.9782921352958438,
          1.0,
          1.0
         ],
         "xaxis": "x",
         "y": [
          0.0,
          0.0,
          0.0,
          0.0,
          0.0,
          0.0,
          0.0,
          0.0,
          0.0,
          0.0,
          0.0,
          0.0,
          0.0,
          0.0,
          0.0,
          0.0,
          0.0,
          0.0,
          0.0,
          0.0,
          0.0,
          0.0,
          0.0,
          0.0,
          0.0,
          0.0
         ],
         "yaxis": "y"
        }
       ],
       "frames": [
        {
         "data": [
          {
           "hovertemplate": "time=0.0<br>position=%{x}<br>y=%{y}<br>text=%{text}<extra></extra>",
           "legendgroup": "",
           "marker": {
            "color": "#636efa",
            "symbol": "circle"
           },
           "mode": "markers+text",
           "name": "",
           "orientation": "v",
           "showlegend": false,
           "text": [
            "0.0m/s 0.0m/s^2"
           ],
           "type": "scatter",
           "x": [
            0.0
           ],
           "xaxis": "x",
           "y": [
            0.0
           ],
           "yaxis": "y"
          }
         ],
         "name": "0.0"
        },
        {
         "data": [
          {
           "hovertemplate": "time=0.04<br>position=%{x}<br>y=%{y}<br>text=%{text}<extra></extra>",
           "legendgroup": "",
           "marker": {
            "color": "#636efa",
            "symbol": "circle"
           },
           "mode": "markers+text",
           "name": "",
           "orientation": "v",
           "showlegend": false,
           "text": [
            "7.78m/s 7.78m/s^2"
           ],
           "type": "scatter",
           "x": [
            0.012452648251160636
           ],
           "xaxis": "x",
           "y": [
            0.0
           ],
           "yaxis": "y"
          }
         ],
         "name": "0.04"
        },
        {
         "data": [
          {
           "hovertemplate": "time=0.08<br>position=%{x}<br>y=%{y}<br>text=%{text}<extra></extra>",
           "legendgroup": "",
           "marker": {
            "color": "#636efa",
            "symbol": "circle"
           },
           "mode": "markers+text",
           "name": "",
           "orientation": "v",
           "showlegend": false,
           "text": [
            "6.62m/s 6.62m/s^2"
           ],
           "type": "scatter",
           "x": [
            0.035492776281901076
           ],
           "xaxis": "x",
           "y": [
            0.0
           ],
           "yaxis": "y"
          }
         ],
         "name": "0.08"
        },
        {
         "data": [
          {
           "hovertemplate": "time=0.12<br>position=%{x}<br>y=%{y}<br>text=%{text}<extra></extra>",
           "legendgroup": "",
           "marker": {
            "color": "#636efa",
            "symbol": "circle"
           },
           "mode": "markers+text",
           "name": "",
           "orientation": "v",
           "showlegend": false,
           "text": [
            "5.45m/s 5.45m/s^2"
           ],
           "type": "scatter",
           "x": [
            0.0672552156280279
           ],
           "xaxis": "x",
           "y": [
            0.0
           ],
           "yaxis": "y"
          }
         ],
         "name": "0.12"
        },
        {
         "data": [
          {
           "hovertemplate": "time=0.16<br>position=%{x}<br>y=%{y}<br>text=%{text}<extra></extra>",
           "legendgroup": "",
           "marker": {
            "color": "#636efa",
            "symbol": "circle"
           },
           "mode": "markers+text",
           "name": "",
           "orientation": "v",
           "showlegend": false,
           "text": [
            "4.29m/s 4.29m/s^2"
           ],
           "type": "scatter",
           "x": [
            0.1058747978304251
           ],
           "xaxis": "x",
           "y": [
            0.0
           ],
           "yaxis": "y"
          }
         ],
         "name": "0.16"
        },
        {
         "data": [
          {
           "hovertemplate": "time=0.2<br>position=%{x}<br>y=%{y}<br>text=%{text}<extra></extra>",
           "legendgroup": "",
           "marker": {
            "color": "#636efa",
            "symbol": "circle"
           },
           "mode": "markers+text",
           "name": "",
           "orientation": "v",
           "showlegend": false,
           "text": [
            "3.12m/s 3.12m/s^2"
           ],
           "type": "scatter",
           "x": [
            0.14948635443790717
           ],
           "xaxis": "x",
           "y": [
            0.0
           ],
           "yaxis": "y"
          }
         ],
         "name": "0.2"
        },
        {
         "data": [
          {
           "hovertemplate": "time=0.24<br>position=%{x}<br>y=%{y}<br>text=%{text}<extra></extra>",
           "legendgroup": "",
           "marker": {
            "color": "#636efa",
            "symbol": "circle"
           },
           "mode": "markers+text",
           "name": "",
           "orientation": "v",
           "showlegend": false,
           "text": [
            "1.95m/s 1.95m/s^2"
           ],
           "type": "scatter",
           "x": [
            0.19622471701909439
           ],
           "xaxis": "x",
           "y": [
            0.0
           ],
           "yaxis": "y"
          }
         ],
         "name": "0.24"
        },
        {
         "data": [
          {
           "hovertemplate": "time=0.28<br>position=%{x}<br>y=%{y}<br>text=%{text}<extra></extra>",
           "legendgroup": "",
           "marker": {
            "color": "#636efa",
            "symbol": "circle"
           },
           "mode": "markers+text",
           "name": "",
           "orientation": "v",
           "showlegend": false,
           "text": [
            "0.79m/s 0.79m/s^2"
           ],
           "type": "scatter",
           "x": [
            0.24422471723335884
           ],
           "xaxis": "x",
           "y": [
            0.0
           ],
           "yaxis": "y"
          }
         ],
         "name": "0.28"
        },
        {
         "data": [
          {
           "hovertemplate": "time=0.32<br>position=%{x}<br>y=%{y}<br>text=%{text}<extra></extra>",
           "legendgroup": "",
           "marker": {
            "color": "#636efa",
            "symbol": "circle"
           },
           "mode": "markers+text",
           "name": "",
           "orientation": "v",
           "showlegend": false,
           "text": [
            "0.0m/s 0.0m/s^2"
           ],
           "type": "scatter",
           "x": [
            0.29222471762737307
           ],
           "xaxis": "x",
           "y": [
            0.0
           ],
           "yaxis": "y"
          }
         ],
         "name": "0.32"
        },
        {
         "data": [
          {
           "hovertemplate": "time=0.36<br>position=%{x}<br>y=%{y}<br>text=%{text}<extra></extra>",
           "legendgroup": "",
           "marker": {
            "color": "#636efa",
            "symbol": "circle"
           },
           "mode": "markers+text",
           "name": "",
           "orientation": "v",
           "showlegend": false,
           "text": [
            "0.0m/s 0.0m/s^2"
           ],
           "type": "scatter",
           "x": [
            0.3402247180213874
           ],
           "xaxis": "x",
           "y": [
            0.0
           ],
           "yaxis": "y"
          }
         ],
         "name": "0.36"
        },
        {
         "data": [
          {
           "hovertemplate": "time=0.4<br>position=%{x}<br>y=%{y}<br>text=%{text}<extra></extra>",
           "legendgroup": "",
           "marker": {
            "color": "#636efa",
            "symbol": "circle"
           },
           "mode": "markers+text",
           "name": "",
           "orientation": "v",
           "showlegend": false,
           "text": [
            "0.0m/s 0.0m/s^2"
           ],
           "type": "scatter",
           "x": [
            0.38822471841540174
           ],
           "xaxis": "x",
           "y": [
            0.0
           ],
           "yaxis": "y"
          }
         ],
         "name": "0.4"
        },
        {
         "data": [
          {
           "hovertemplate": "time=0.44<br>position=%{x}<br>y=%{y}<br>text=%{text}<extra></extra>",
           "legendgroup": "",
           "marker": {
            "color": "#636efa",
            "symbol": "circle"
           },
           "mode": "markers+text",
           "name": "",
           "orientation": "v",
           "showlegend": false,
           "text": [
            "0.0m/s 0.0m/s^2"
           ],
           "type": "scatter",
           "x": [
            0.436224718809416
           ],
           "xaxis": "x",
           "y": [
            0.0
           ],
           "yaxis": "y"
          }
         ],
         "name": "0.44"
        },
        {
         "data": [
          {
           "hovertemplate": "time=0.48<br>position=%{x}<br>y=%{y}<br>text=%{text}<extra></extra>",
           "legendgroup": "",
           "marker": {
            "color": "#636efa",
            "symbol": "circle"
           },
           "mode": "markers+text",
           "name": "",
           "orientation": "v",
           "showlegend": false,
           "text": [
            "0.0m/s 0.0m/s^2"
           ],
           "type": "scatter",
           "x": [
            0.4842247192034302
           ],
           "xaxis": "x",
           "y": [
            0.0
           ],
           "yaxis": "y"
          }
         ],
         "name": "0.48"
        },
        {
         "data": [
          {
           "hovertemplate": "time=0.52<br>position=%{x}<br>y=%{y}<br>text=%{text}<extra></extra>",
           "legendgroup": "",
           "marker": {
            "color": "#636efa",
            "symbol": "circle"
           },
           "mode": "markers+text",
           "name": "",
           "orientation": "v",
           "showlegend": false,
           "text": [
            "0.0m/s 0.0m/s^2"
           ],
           "type": "scatter",
           "x": [
            0.5322247195974446
           ],
           "xaxis": "x",
           "y": [
            0.0
           ],
           "yaxis": "y"
          }
         ],
         "name": "0.52"
        },
        {
         "data": [
          {
           "hovertemplate": "time=0.56<br>position=%{x}<br>y=%{y}<br>text=%{text}<extra></extra>",
           "legendgroup": "",
           "marker": {
            "color": "#636efa",
            "symbol": "circle"
           },
           "mode": "markers+text",
           "name": "",
           "orientation": "v",
           "showlegend": false,
           "text": [
            "0.0m/s 0.0m/s^2"
           ],
           "type": "scatter",
           "x": [
            0.5802247199914589
           ],
           "xaxis": "x",
           "y": [
            0.0
           ],
           "yaxis": "y"
          }
         ],
         "name": "0.56"
        },
        {
         "data": [
          {
           "hovertemplate": "time=0.6<br>position=%{x}<br>y=%{y}<br>text=%{text}<extra></extra>",
           "legendgroup": "",
           "marker": {
            "color": "#636efa",
            "symbol": "circle"
           },
           "mode": "markers+text",
           "name": "",
           "orientation": "v",
           "showlegend": false,
           "text": [
            "-0.0m/s -0.0m/s^2"
           ],
           "type": "scatter",
           "x": [
            0.6282247203854731
           ],
           "xaxis": "x",
           "y": [
            0.0
           ],
           "yaxis": "y"
          }
         ],
         "name": "0.6"
        },
        {
         "data": [
          {
           "hovertemplate": "time=0.64<br>position=%{x}<br>y=%{y}<br>text=%{text}<extra></extra>",
           "legendgroup": "",
           "marker": {
            "color": "#636efa",
            "symbol": "circle"
           },
           "mode": "markers+text",
           "name": "",
           "orientation": "v",
           "showlegend": false,
           "text": [
            "0.0m/s 0.0m/s^2"
           ],
           "type": "scatter",
           "x": [
            0.6762247207794874
           ],
           "xaxis": "x",
           "y": [
            0.0
           ],
           "yaxis": "y"
          }
         ],
         "name": "0.64"
        },
        {
         "data": [
          {
           "hovertemplate": "time=0.68<br>position=%{x}<br>y=%{y}<br>text=%{text}<extra></extra>",
           "legendgroup": "",
           "marker": {
            "color": "#636efa",
            "symbol": "circle"
           },
           "mode": "markers+text",
           "name": "",
           "orientation": "v",
           "showlegend": false,
           "text": [
            "-0.0m/s -0.0m/s^2"
           ],
           "type": "scatter",
           "x": [
            0.7242247211735017
           ],
           "xaxis": "x",
           "y": [
            0.0
           ],
           "yaxis": "y"
          }
         ],
         "name": "0.68"
        },
        {
         "data": [
          {
           "hovertemplate": "time=0.72<br>position=%{x}<br>y=%{y}<br>text=%{text}<extra></extra>",
           "legendgroup": "",
           "marker": {
            "color": "#636efa",
            "symbol": "circle"
           },
           "mode": "markers+text",
           "name": "",
           "orientation": "v",
           "showlegend": false,
           "text": [
            "-0.0m/s -0.0m/s^2"
           ],
           "type": "scatter",
           "x": [
            0.7722247215675156
           ],
           "xaxis": "x",
           "y": [
            0.0
           ],
           "yaxis": "y"
          }
         ],
         "name": "0.72"
        },
        {
         "data": [
          {
           "hovertemplate": "time=0.76<br>position=%{x}<br>y=%{y}<br>text=%{text}<extra></extra>",
           "legendgroup": "",
           "marker": {
            "color": "#636efa",
            "symbol": "circle"
           },
           "mode": "markers+text",
           "name": "",
           "orientation": "v",
           "showlegend": false,
           "text": [
            "-0.0m/s -0.0m/s^2"
           ],
           "type": "scatter",
           "x": [
            0.8202247215711099
           ],
           "xaxis": "x",
           "y": [
            0.0
           ],
           "yaxis": "y"
          }
         ],
         "name": "0.76"
        },
        {
         "data": [
          {
           "hovertemplate": "time=0.8<br>position=%{x}<br>y=%{y}<br>text=%{text}<extra></extra>",
           "legendgroup": "",
           "marker": {
            "color": "#636efa",
            "symbol": "circle"
           },
           "mode": "markers+text",
           "name": "",
           "orientation": "v",
           "showlegend": false,
           "text": [
            "-0.96m/s -0.96m/s^2"
           ],
           "type": "scatter",
           "x": [
            0.8666966313392935
           ],
           "xaxis": "x",
           "y": [
            0.0
           ],
           "yaxis": "y"
          }
         ],
         "name": "0.8"
        },
        {
         "data": [
          {
           "hovertemplate": "time=0.84<br>position=%{x}<br>y=%{y}<br>text=%{text}<extra></extra>",
           "legendgroup": "",
           "marker": {
            "color": "#636efa",
            "symbol": "circle"
           },
           "mode": "markers+text",
           "name": "",
           "orientation": "v",
           "showlegend": false,
           "text": [
            "-2.12m/s -2.12m/s^2"
           ],
           "type": "scatter",
           "x": [
            0.9097752825092605
           ],
           "xaxis": "x",
           "y": [
            0.0
           ],
           "yaxis": "y"
          }
         ],
         "name": "0.84"
        },
        {
         "data": [
          {
           "hovertemplate": "time=0.88<br>position=%{x}<br>y=%{y}<br>text=%{text}<extra></extra>",
           "legendgroup": "",
           "marker": {
            "color": "#636efa",
            "symbol": "circle"
           },
           "mode": "markers+text",
           "name": "",
           "orientation": "v",
           "showlegend": false,
           "text": [
            "-3.29m/s -3.29m/s^2"
           ],
           "type": "scatter",
           "x": [
            0.947595506645642
           ],
           "xaxis": "x",
           "y": [
            0.0
           ],
           "yaxis": "y"
          }
         ],
         "name": "0.88"
        },
        {
         "data": [
          {
           "hovertemplate": "time=0.92<br>position=%{x}<br>y=%{y}<br>text=%{text}<extra></extra>",
           "legendgroup": "",
           "marker": {
            "color": "#636efa",
            "symbol": "circle"
           },
           "mode": "markers+text",
           "name": "",
           "orientation": "v",
           "showlegend": false,
           "text": [
            "-4.45m/s -4.45m/s^2"
           ],
           "type": "scatter",
           "x": [
            0.9782921352958438
           ],
           "xaxis": "x",
           "y": [
            0.0
           ],
           "yaxis": "y"
          }
         ],
         "name": "0.92"
        },
        {
         "data": [
          {
           "hovertemplate": "time=0.96<br>position=%{x}<br>y=%{y}<br>text=%{text}<extra></extra>",
           "legendgroup": "",
           "marker": {
            "color": "#636efa",
            "symbol": "circle"
           },
           "mode": "markers+text",
           "name": "",
           "orientation": "v",
           "showlegend": false,
           "text": [
            "-5.62m/s -5.62m/s^2"
           ],
           "type": "scatter",
           "x": [
            1.0
           ],
           "xaxis": "x",
           "y": [
            0.0
           ],
           "yaxis": "y"
          }
         ],
         "name": "0.96"
        },
        {
         "data": [
          {
           "hovertemplate": "time=1.0<br>position=%{x}<br>y=%{y}<br>text=%{text}<extra></extra>",
           "legendgroup": "",
           "marker": {
            "color": "#636efa",
            "symbol": "circle"
           },
           "mode": "markers+text",
           "name": "",
           "orientation": "v",
           "showlegend": false,
           "text": [
            "-13.57m/s -13.57m/s^2"
           ],
           "type": "scatter",
           "x": [
            1.0
           ],
           "xaxis": "x",
           "y": [
            0.0
           ],
           "yaxis": "y"
          }
         ],
         "name": "1.0"
        }
       ],
       "layout": {
        "legend": {
         "tracegroupgap": 0
        },
        "sliders": [
         {
          "active": 0,
          "currentvalue": {
           "prefix": "time="
          },
          "len": 0.9,
          "pad": {
           "b": 10,
           "t": 60
          },
          "steps": [
           {
            "args": [
             [
              "0.0"
             ],
             {
              "frame": {
               "duration": 0,
               "redraw": false
              },
              "fromcurrent": true,
              "mode": "immediate",
              "transition": {
               "duration": 0,
               "easing": "linear"
              }
             }
            ],
            "label": "0.0",
            "method": "animate"
           },
           {
            "args": [
             [
              "0.04"
             ],
             {
              "frame": {
               "duration": 0,
               "redraw": false
              },
              "fromcurrent": true,
              "mode": "immediate",
              "transition": {
               "duration": 0,
               "easing": "linear"
              }
             }
            ],
            "label": "0.04",
            "method": "animate"
           },
           {
            "args": [
             [
              "0.08"
             ],
             {
              "frame": {
               "duration": 0,
               "redraw": false
              },
              "fromcurrent": true,
              "mode": "immediate",
              "transition": {
               "duration": 0,
               "easing": "linear"
              }
             }
            ],
            "label": "0.08",
            "method": "animate"
           },
           {
            "args": [
             [
              "0.12"
             ],
             {
              "frame": {
               "duration": 0,
               "redraw": false
              },
              "fromcurrent": true,
              "mode": "immediate",
              "transition": {
               "duration": 0,
               "easing": "linear"
              }
             }
            ],
            "label": "0.12",
            "method": "animate"
           },
           {
            "args": [
             [
              "0.16"
             ],
             {
              "frame": {
               "duration": 0,
               "redraw": false
              },
              "fromcurrent": true,
              "mode": "immediate",
              "transition": {
               "duration": 0,
               "easing": "linear"
              }
             }
            ],
            "label": "0.16",
            "method": "animate"
           },
           {
            "args": [
             [
              "0.2"
             ],
             {
              "frame": {
               "duration": 0,
               "redraw": false
              },
              "fromcurrent": true,
              "mode": "immediate",
              "transition": {
               "duration": 0,
               "easing": "linear"
              }
             }
            ],
            "label": "0.2",
            "method": "animate"
           },
           {
            "args": [
             [
              "0.24"
             ],
             {
              "frame": {
               "duration": 0,
               "redraw": false
              },
              "fromcurrent": true,
              "mode": "immediate",
              "transition": {
               "duration": 0,
               "easing": "linear"
              }
             }
            ],
            "label": "0.24",
            "method": "animate"
           },
           {
            "args": [
             [
              "0.28"
             ],
             {
              "frame": {
               "duration": 0,
               "redraw": false
              },
              "fromcurrent": true,
              "mode": "immediate",
              "transition": {
               "duration": 0,
               "easing": "linear"
              }
             }
            ],
            "label": "0.28",
            "method": "animate"
           },
           {
            "args": [
             [
              "0.32"
             ],
             {
              "frame": {
               "duration": 0,
               "redraw": false
              },
              "fromcurrent": true,
              "mode": "immediate",
              "transition": {
               "duration": 0,
               "easing": "linear"
              }
             }
            ],
            "label": "0.32",
            "method": "animate"
           },
           {
            "args": [
             [
              "0.36"
             ],
             {
              "frame": {
               "duration": 0,
               "redraw": false
              },
              "fromcurrent": true,
              "mode": "immediate",
              "transition": {
               "duration": 0,
               "easing": "linear"
              }
             }
            ],
            "label": "0.36",
            "method": "animate"
           },
           {
            "args": [
             [
              "0.4"
             ],
             {
              "frame": {
               "duration": 0,
               "redraw": false
              },
              "fromcurrent": true,
              "mode": "immediate",
              "transition": {
               "duration": 0,
               "easing": "linear"
              }
             }
            ],
            "label": "0.4",
            "method": "animate"
           },
           {
            "args": [
             [
              "0.44"
             ],
             {
              "frame": {
               "duration": 0,
               "redraw": false
              },
              "fromcurrent": true,
              "mode": "immediate",
              "transition": {
               "duration": 0,
               "easing": "linear"
              }
             }
            ],
            "label": "0.44",
            "method": "animate"
           },
           {
            "args": [
             [
              "0.48"
             ],
             {
              "frame": {
               "duration": 0,
               "redraw": false
              },
              "fromcurrent": true,
              "mode": "immediate",
              "transition": {
               "duration": 0,
               "easing": "linear"
              }
             }
            ],
            "label": "0.48",
            "method": "animate"
           },
           {
            "args": [
             [
              "0.52"
             ],
             {
              "frame": {
               "duration": 0,
               "redraw": false
              },
              "fromcurrent": true,
              "mode": "immediate",
              "transition": {
               "duration": 0,
               "easing": "linear"
              }
             }
            ],
            "label": "0.52",
            "method": "animate"
           },
           {
            "args": [
             [
              "0.56"
             ],
             {
              "frame": {
               "duration": 0,
               "redraw": false
              },
              "fromcurrent": true,
              "mode": "immediate",
              "transition": {
               "duration": 0,
               "easing": "linear"
              }
             }
            ],
            "label": "0.56",
            "method": "animate"
           },
           {
            "args": [
             [
              "0.6"
             ],
             {
              "frame": {
               "duration": 0,
               "redraw": false
              },
              "fromcurrent": true,
              "mode": "immediate",
              "transition": {
               "duration": 0,
               "easing": "linear"
              }
             }
            ],
            "label": "0.6",
            "method": "animate"
           },
           {
            "args": [
             [
              "0.64"
             ],
             {
              "frame": {
               "duration": 0,
               "redraw": false
              },
              "fromcurrent": true,
              "mode": "immediate",
              "transition": {
               "duration": 0,
               "easing": "linear"
              }
             }
            ],
            "label": "0.64",
            "method": "animate"
           },
           {
            "args": [
             [
              "0.68"
             ],
             {
              "frame": {
               "duration": 0,
               "redraw": false
              },
              "fromcurrent": true,
              "mode": "immediate",
              "transition": {
               "duration": 0,
               "easing": "linear"
              }
             }
            ],
            "label": "0.68",
            "method": "animate"
           },
           {
            "args": [
             [
              "0.72"
             ],
             {
              "frame": {
               "duration": 0,
               "redraw": false
              },
              "fromcurrent": true,
              "mode": "immediate",
              "transition": {
               "duration": 0,
               "easing": "linear"
              }
             }
            ],
            "label": "0.72",
            "method": "animate"
           },
           {
            "args": [
             [
              "0.76"
             ],
             {
              "frame": {
               "duration": 0,
               "redraw": false
              },
              "fromcurrent": true,
              "mode": "immediate",
              "transition": {
               "duration": 0,
               "easing": "linear"
              }
             }
            ],
            "label": "0.76",
            "method": "animate"
           },
           {
            "args": [
             [
              "0.8"
             ],
             {
              "frame": {
               "duration": 0,
               "redraw": false
              },
              "fromcurrent": true,
              "mode": "immediate",
              "transition": {
               "duration": 0,
               "easing": "linear"
              }
             }
            ],
            "label": "0.8",
            "method": "animate"
           },
           {
            "args": [
             [
              "0.84"
             ],
             {
              "frame": {
               "duration": 0,
               "redraw": false
              },
              "fromcurrent": true,
              "mode": "immediate",
              "transition": {
               "duration": 0,
               "easing": "linear"
              }
             }
            ],
            "label": "0.84",
            "method": "animate"
           },
           {
            "args": [
             [
              "0.88"
             ],
             {
              "frame": {
               "duration": 0,
               "redraw": false
              },
              "fromcurrent": true,
              "mode": "immediate",
              "transition": {
               "duration": 0,
               "easing": "linear"
              }
             }
            ],
            "label": "0.88",
            "method": "animate"
           },
           {
            "args": [
             [
              "0.92"
             ],
             {
              "frame": {
               "duration": 0,
               "redraw": false
              },
              "fromcurrent": true,
              "mode": "immediate",
              "transition": {
               "duration": 0,
               "easing": "linear"
              }
             }
            ],
            "label": "0.92",
            "method": "animate"
           },
           {
            "args": [
             [
              "0.96"
             ],
             {
              "frame": {
               "duration": 0,
               "redraw": false
              },
              "fromcurrent": true,
              "mode": "immediate",
              "transition": {
               "duration": 0,
               "easing": "linear"
              }
             }
            ],
            "label": "0.96",
            "method": "animate"
           },
           {
            "args": [
             [
              "1.0"
             ],
             {
              "frame": {
               "duration": 0,
               "redraw": false
              },
              "fromcurrent": true,
              "mode": "immediate",
              "transition": {
               "duration": 0,
               "easing": "linear"
              }
             }
            ],
            "label": "1.0",
            "method": "animate"
           }
          ],
          "x": 0.1,
          "xanchor": "left",
          "y": 0,
          "yanchor": "top"
         }
        ],
        "template": {
         "data": {
          "bar": [
           {
            "error_x": {
             "color": "#2a3f5f"
            },
            "error_y": {
             "color": "#2a3f5f"
            },
            "marker": {
             "line": {
              "color": "#E5ECF6",
              "width": 0.5
             }
            },
            "type": "bar"
           }
          ],
          "barpolar": [
           {
            "marker": {
             "line": {
              "color": "#E5ECF6",
              "width": 0.5
             }
            },
            "type": "barpolar"
           }
          ],
          "carpet": [
           {
            "aaxis": {
             "endlinecolor": "#2a3f5f",
             "gridcolor": "white",
             "linecolor": "white",
             "minorgridcolor": "white",
             "startlinecolor": "#2a3f5f"
            },
            "baxis": {
             "endlinecolor": "#2a3f5f",
             "gridcolor": "white",
             "linecolor": "white",
             "minorgridcolor": "white",
             "startlinecolor": "#2a3f5f"
            },
            "type": "carpet"
           }
          ],
          "choropleth": [
           {
            "colorbar": {
             "outlinewidth": 0,
             "ticks": ""
            },
            "type": "choropleth"
           }
          ],
          "contour": [
           {
            "colorbar": {
             "outlinewidth": 0,
             "ticks": ""
            },
            "colorscale": [
             [
              0.0,
              "#0d0887"
             ],
             [
              0.1111111111111111,
              "#46039f"
             ],
             [
              0.2222222222222222,
              "#7201a8"
             ],
             [
              0.3333333333333333,
              "#9c179e"
             ],
             [
              0.4444444444444444,
              "#bd3786"
             ],
             [
              0.5555555555555556,
              "#d8576b"
             ],
             [
              0.6666666666666666,
              "#ed7953"
             ],
             [
              0.7777777777777778,
              "#fb9f3a"
             ],
             [
              0.8888888888888888,
              "#fdca26"
             ],
             [
              1.0,
              "#f0f921"
             ]
            ],
            "type": "contour"
           }
          ],
          "contourcarpet": [
           {
            "colorbar": {
             "outlinewidth": 0,
             "ticks": ""
            },
            "type": "contourcarpet"
           }
          ],
          "heatmap": [
           {
            "colorbar": {
             "outlinewidth": 0,
             "ticks": ""
            },
            "colorscale": [
             [
              0.0,
              "#0d0887"
             ],
             [
              0.1111111111111111,
              "#46039f"
             ],
             [
              0.2222222222222222,
              "#7201a8"
             ],
             [
              0.3333333333333333,
              "#9c179e"
             ],
             [
              0.4444444444444444,
              "#bd3786"
             ],
             [
              0.5555555555555556,
              "#d8576b"
             ],
             [
              0.6666666666666666,
              "#ed7953"
             ],
             [
              0.7777777777777778,
              "#fb9f3a"
             ],
             [
              0.8888888888888888,
              "#fdca26"
             ],
             [
              1.0,
              "#f0f921"
             ]
            ],
            "type": "heatmap"
           }
          ],
          "heatmapgl": [
           {
            "colorbar": {
             "outlinewidth": 0,
             "ticks": ""
            },
            "colorscale": [
             [
              0.0,
              "#0d0887"
             ],
             [
              0.1111111111111111,
              "#46039f"
             ],
             [
              0.2222222222222222,
              "#7201a8"
             ],
             [
              0.3333333333333333,
              "#9c179e"
             ],
             [
              0.4444444444444444,
              "#bd3786"
             ],
             [
              0.5555555555555556,
              "#d8576b"
             ],
             [
              0.6666666666666666,
              "#ed7953"
             ],
             [
              0.7777777777777778,
              "#fb9f3a"
             ],
             [
              0.8888888888888888,
              "#fdca26"
             ],
             [
              1.0,
              "#f0f921"
             ]
            ],
            "type": "heatmapgl"
           }
          ],
          "histogram": [
           {
            "marker": {
             "colorbar": {
              "outlinewidth": 0,
              "ticks": ""
             }
            },
            "type": "histogram"
           }
          ],
          "histogram2d": [
           {
            "colorbar": {
             "outlinewidth": 0,
             "ticks": ""
            },
            "colorscale": [
             [
              0.0,
              "#0d0887"
             ],
             [
              0.1111111111111111,
              "#46039f"
             ],
             [
              0.2222222222222222,
              "#7201a8"
             ],
             [
              0.3333333333333333,
              "#9c179e"
             ],
             [
              0.4444444444444444,
              "#bd3786"
             ],
             [
              0.5555555555555556,
              "#d8576b"
             ],
             [
              0.6666666666666666,
              "#ed7953"
             ],
             [
              0.7777777777777778,
              "#fb9f3a"
             ],
             [
              0.8888888888888888,
              "#fdca26"
             ],
             [
              1.0,
              "#f0f921"
             ]
            ],
            "type": "histogram2d"
           }
          ],
          "histogram2dcontour": [
           {
            "colorbar": {
             "outlinewidth": 0,
             "ticks": ""
            },
            "colorscale": [
             [
              0.0,
              "#0d0887"
             ],
             [
              0.1111111111111111,
              "#46039f"
             ],
             [
              0.2222222222222222,
              "#7201a8"
             ],
             [
              0.3333333333333333,
              "#9c179e"
             ],
             [
              0.4444444444444444,
              "#bd3786"
             ],
             [
              0.5555555555555556,
              "#d8576b"
             ],
             [
              0.6666666666666666,
              "#ed7953"
             ],
             [
              0.7777777777777778,
              "#fb9f3a"
             ],
             [
              0.8888888888888888,
              "#fdca26"
             ],
             [
              1.0,
              "#f0f921"
             ]
            ],
            "type": "histogram2dcontour"
           }
          ],
          "mesh3d": [
           {
            "colorbar": {
             "outlinewidth": 0,
             "ticks": ""
            },
            "type": "mesh3d"
           }
          ],
          "parcoords": [
           {
            "line": {
             "colorbar": {
              "outlinewidth": 0,
              "ticks": ""
             }
            },
            "type": "parcoords"
           }
          ],
          "pie": [
           {
            "automargin": true,
            "type": "pie"
           }
          ],
          "scatter": [
           {
            "marker": {
             "colorbar": {
              "outlinewidth": 0,
              "ticks": ""
             }
            },
            "type": "scatter"
           }
          ],
          "scatter3d": [
           {
            "line": {
             "colorbar": {
              "outlinewidth": 0,
              "ticks": ""
             }
            },
            "marker": {
             "colorbar": {
              "outlinewidth": 0,
              "ticks": ""
             }
            },
            "type": "scatter3d"
           }
          ],
          "scattercarpet": [
           {
            "marker": {
             "colorbar": {
              "outlinewidth": 0,
              "ticks": ""
             }
            },
            "type": "scattercarpet"
           }
          ],
          "scattergeo": [
           {
            "marker": {
             "colorbar": {
              "outlinewidth": 0,
              "ticks": ""
             }
            },
            "type": "scattergeo"
           }
          ],
          "scattergl": [
           {
            "marker": {
             "colorbar": {
              "outlinewidth": 0,
              "ticks": ""
             }
            },
            "type": "scattergl"
           }
          ],
          "scattermapbox": [
           {
            "marker": {
             "colorbar": {
              "outlinewidth": 0,
              "ticks": ""
             }
            },
            "type": "scattermapbox"
           }
          ],
          "scatterpolar": [
           {
            "marker": {
             "colorbar": {
              "outlinewidth": 0,
              "ticks": ""
             }
            },
            "type": "scatterpolar"
           }
          ],
          "scatterpolargl": [
           {
            "marker": {
             "colorbar": {
              "outlinewidth": 0,
              "ticks": ""
             }
            },
            "type": "scatterpolargl"
           }
          ],
          "scatterternary": [
           {
            "marker": {
             "colorbar": {
              "outlinewidth": 0,
              "ticks": ""
             }
            },
            "type": "scatterternary"
           }
          ],
          "surface": [
           {
            "colorbar": {
             "outlinewidth": 0,
             "ticks": ""
            },
            "colorscale": [
             [
              0.0,
              "#0d0887"
             ],
             [
              0.1111111111111111,
              "#46039f"
             ],
             [
              0.2222222222222222,
              "#7201a8"
             ],
             [
              0.3333333333333333,
              "#9c179e"
             ],
             [
              0.4444444444444444,
              "#bd3786"
             ],
             [
              0.5555555555555556,
              "#d8576b"
             ],
             [
              0.6666666666666666,
              "#ed7953"
             ],
             [
              0.7777777777777778,
              "#fb9f3a"
             ],
             [
              0.8888888888888888,
              "#fdca26"
             ],
             [
              1.0,
              "#f0f921"
             ]
            ],
            "type": "surface"
           }
          ],
          "table": [
           {
            "cells": {
             "fill": {
              "color": "#EBF0F8"
             },
             "line": {
              "color": "white"
             }
            },
            "header": {
             "fill": {
              "color": "#C8D4E3"
             },
             "line": {
              "color": "white"
             }
            },
            "type": "table"
           }
          ]
         },
         "layout": {
          "annotationdefaults": {
           "arrowcolor": "#2a3f5f",
           "arrowhead": 0,
           "arrowwidth": 1
          },
          "autotypenumbers": "strict",
          "coloraxis": {
           "colorbar": {
            "outlinewidth": 0,
            "ticks": ""
           }
          },
          "colorscale": {
           "diverging": [
            [
             0,
             "#8e0152"
            ],
            [
             0.1,
             "#c51b7d"
            ],
            [
             0.2,
             "#de77ae"
            ],
            [
             0.3,
             "#f1b6da"
            ],
            [
             0.4,
             "#fde0ef"
            ],
            [
             0.5,
             "#f7f7f7"
            ],
            [
             0.6,
             "#e6f5d0"
            ],
            [
             0.7,
             "#b8e186"
            ],
            [
             0.8,
             "#7fbc41"
            ],
            [
             0.9,
             "#4d9221"
            ],
            [
             1,
             "#276419"
            ]
           ],
           "sequential": [
            [
             0.0,
             "#0d0887"
            ],
            [
             0.1111111111111111,
             "#46039f"
            ],
            [
             0.2222222222222222,
             "#7201a8"
            ],
            [
             0.3333333333333333,
             "#9c179e"
            ],
            [
             0.4444444444444444,
             "#bd3786"
            ],
            [
             0.5555555555555556,
             "#d8576b"
            ],
            [
             0.6666666666666666,
             "#ed7953"
            ],
            [
             0.7777777777777778,
             "#fb9f3a"
            ],
            [
             0.8888888888888888,
             "#fdca26"
            ],
            [
             1.0,
             "#f0f921"
            ]
           ],
           "sequentialminus": [
            [
             0.0,
             "#0d0887"
            ],
            [
             0.1111111111111111,
             "#46039f"
            ],
            [
             0.2222222222222222,
             "#7201a8"
            ],
            [
             0.3333333333333333,
             "#9c179e"
            ],
            [
             0.4444444444444444,
             "#bd3786"
            ],
            [
             0.5555555555555556,
             "#d8576b"
            ],
            [
             0.6666666666666666,
             "#ed7953"
            ],
            [
             0.7777777777777778,
             "#fb9f3a"
            ],
            [
             0.8888888888888888,
             "#fdca26"
            ],
            [
             1.0,
             "#f0f921"
            ]
           ]
          },
          "colorway": [
           "#636efa",
           "#EF553B",
           "#00cc96",
           "#ab63fa",
           "#FFA15A",
           "#19d3f3",
           "#FF6692",
           "#B6E880",
           "#FF97FF",
           "#FECB52"
          ],
          "font": {
           "color": "#2a3f5f"
          },
          "geo": {
           "bgcolor": "white",
           "lakecolor": "white",
           "landcolor": "#E5ECF6",
           "showlakes": true,
           "showland": true,
           "subunitcolor": "white"
          },
          "hoverlabel": {
           "align": "left"
          },
          "hovermode": "closest",
          "mapbox": {
           "style": "light"
          },
          "paper_bgcolor": "white",
          "plot_bgcolor": "#E5ECF6",
          "polar": {
           "angularaxis": {
            "gridcolor": "white",
            "linecolor": "white",
            "ticks": ""
           },
           "bgcolor": "#E5ECF6",
           "radialaxis": {
            "gridcolor": "white",
            "linecolor": "white",
            "ticks": ""
           }
          },
          "scene": {
           "xaxis": {
            "backgroundcolor": "#E5ECF6",
            "gridcolor": "white",
            "gridwidth": 2,
            "linecolor": "white",
            "showbackground": true,
            "ticks": "",
            "zerolinecolor": "white"
           },
           "yaxis": {
            "backgroundcolor": "#E5ECF6",
            "gridcolor": "white",
            "gridwidth": 2,
            "linecolor": "white",
            "showbackground": true,
            "ticks": "",
            "zerolinecolor": "white"
           },
           "zaxis": {
            "backgroundcolor": "#E5ECF6",
            "gridcolor": "white",
            "gridwidth": 2,
            "linecolor": "white",
            "showbackground": true,
            "ticks": "",
            "zerolinecolor": "white"
           }
          },
          "shapedefaults": {
           "line": {
            "color": "#2a3f5f"
           }
          },
          "ternary": {
           "aaxis": {
            "gridcolor": "white",
            "linecolor": "white",
            "ticks": ""
           },
           "baxis": {
            "gridcolor": "white",
            "linecolor": "white",
            "ticks": ""
           },
           "bgcolor": "#E5ECF6",
           "caxis": {
            "gridcolor": "white",
            "linecolor": "white",
            "ticks": ""
           }
          },
          "title": {
           "x": 0.05
          },
          "xaxis": {
           "automargin": true,
           "gridcolor": "white",
           "linecolor": "white",
           "ticks": "",
           "title": {
            "standoff": 15
           },
           "zerolinecolor": "white",
           "zerolinewidth": 2
          },
          "yaxis": {
           "automargin": true,
           "gridcolor": "white",
           "linecolor": "white",
           "ticks": "",
           "title": {
            "standoff": 15
           },
           "zerolinecolor": "white",
           "zerolinewidth": 2
          }
         }
        },
        "title": {
         "text": "Rocket car solution for energy minimization. v_max=1.2"
        },
        "updatemenus": [
         {
          "buttons": [
           {
            "args": [
             null,
             {
              "frame": {
               "duration": 500,
               "redraw": false
              },
              "fromcurrent": true,
              "mode": "immediate",
              "transition": {
               "duration": 500,
               "easing": "linear"
              }
             }
            ],
            "label": "&#9654;",
            "method": "animate"
           },
           {
            "args": [
             [
              null
             ],
             {
              "frame": {
               "duration": 0,
               "redraw": false
              },
              "fromcurrent": true,
              "mode": "immediate",
              "transition": {
               "duration": 0,
               "easing": "linear"
              }
             }
            ],
            "label": "&#9724;",
            "method": "animate"
           }
          ],
          "direction": "left",
          "pad": {
           "r": 10,
           "t": 70
          },
          "showactive": false,
          "type": "buttons",
          "x": 0.1,
          "xanchor": "right",
          "y": 0,
          "yanchor": "top"
         }
        ],
        "xaxis": {
         "anchor": "y",
         "domain": [
          0.0,
          1.0
         ],
         "title": {
          "text": "position"
         }
        },
        "yaxis": {
         "anchor": "x",
         "domain": [
          0.0,
          1.0
         ],
         "title": {
          "text": "y"
         }
        }
       }
      },
      "text/html": "<div>                            <div id=\"4048f75a-3864-41c1-a1d1-6238f2e98212\" class=\"plotly-graph-div\" style=\"height:525px; width:100%;\"></div>            <script type=\"text/javascript\">                require([\"plotly\"], function(Plotly) {                    window.PLOTLYENV=window.PLOTLYENV || {};                                    if (document.getElementById(\"4048f75a-3864-41c1-a1d1-6238f2e98212\")) {                    Plotly.newPlot(                        \"4048f75a-3864-41c1-a1d1-6238f2e98212\",                        [{\"hovertemplate\": \"time=0.0<br>position=%{x}<br>y=%{y}<br>text=%{text}<extra></extra>\", \"legendgroup\": \"\", \"marker\": {\"color\": \"#636efa\", \"symbol\": \"circle\"}, \"mode\": \"markers+text\", \"name\": \"\", \"orientation\": \"v\", \"showlegend\": false, \"text\": [\"0.0m/s 0.0m/s^2\"], \"type\": \"scatter\", \"x\": [0.0], \"xaxis\": \"x\", \"y\": [0.0], \"yaxis\": \"y\"}, {\"hovertemplate\": \"position=%{x}<br>y=%{y}<extra></extra>\", \"legendgroup\": \"\", \"line\": {\"color\": \"#636efa\", \"dash\": \"solid\"}, \"marker\": {\"color\": \"red\"}, \"mode\": \"lines\", \"name\": \"\", \"orientation\": \"v\", \"showlegend\": false, \"type\": \"scatter\", \"x\": [0.0, 0.012452648251160636, 0.035492776281901076, 0.0672552156280279, 0.1058747978304251, 0.14948635443790717, 0.19622471701909439, 0.24422471723335884, 0.29222471762737307, 0.3402247180213874, 0.38822471841540174, 0.436224718809416, 0.4842247192034302, 0.5322247195974446, 0.5802247199914589, 0.6282247203854731, 0.6762247207794874, 0.7242247211735017, 0.7722247215675156, 0.8202247215711099, 0.8666966313392935, 0.9097752825092605, 0.947595506645642, 0.9782921352958438, 1.0, 1.0], \"xaxis\": \"x\", \"y\": [0.0, 0.0, 0.0, 0.0, 0.0, 0.0, 0.0, 0.0, 0.0, 0.0, 0.0, 0.0, 0.0, 0.0, 0.0, 0.0, 0.0, 0.0, 0.0, 0.0, 0.0, 0.0, 0.0, 0.0, 0.0, 0.0], \"yaxis\": \"y\"}],                        {\"legend\": {\"tracegroupgap\": 0}, \"sliders\": [{\"active\": 0, \"currentvalue\": {\"prefix\": \"time=\"}, \"len\": 0.9, \"pad\": {\"b\": 10, \"t\": 60}, \"steps\": [{\"args\": [[\"0.0\"], {\"frame\": {\"duration\": 0, \"redraw\": false}, \"fromcurrent\": true, \"mode\": \"immediate\", \"transition\": {\"duration\": 0, \"easing\": \"linear\"}}], \"label\": \"0.0\", \"method\": \"animate\"}, {\"args\": [[\"0.04\"], {\"frame\": {\"duration\": 0, \"redraw\": false}, \"fromcurrent\": true, \"mode\": \"immediate\", \"transition\": {\"duration\": 0, \"easing\": \"linear\"}}], \"label\": \"0.04\", \"method\": \"animate\"}, {\"args\": [[\"0.08\"], {\"frame\": {\"duration\": 0, \"redraw\": false}, \"fromcurrent\": true, \"mode\": \"immediate\", \"transition\": {\"duration\": 0, \"easing\": \"linear\"}}], \"label\": \"0.08\", \"method\": \"animate\"}, {\"args\": [[\"0.12\"], {\"frame\": {\"duration\": 0, \"redraw\": false}, \"fromcurrent\": true, \"mode\": \"immediate\", \"transition\": {\"duration\": 0, \"easing\": \"linear\"}}], \"label\": \"0.12\", \"method\": \"animate\"}, {\"args\": [[\"0.16\"], {\"frame\": {\"duration\": 0, \"redraw\": false}, \"fromcurrent\": true, \"mode\": \"immediate\", \"transition\": {\"duration\": 0, \"easing\": \"linear\"}}], \"label\": \"0.16\", \"method\": \"animate\"}, {\"args\": [[\"0.2\"], {\"frame\": {\"duration\": 0, \"redraw\": false}, \"fromcurrent\": true, \"mode\": \"immediate\", \"transition\": {\"duration\": 0, \"easing\": \"linear\"}}], \"label\": \"0.2\", \"method\": \"animate\"}, {\"args\": [[\"0.24\"], {\"frame\": {\"duration\": 0, \"redraw\": false}, \"fromcurrent\": true, \"mode\": \"immediate\", \"transition\": {\"duration\": 0, \"easing\": \"linear\"}}], \"label\": \"0.24\", \"method\": \"animate\"}, {\"args\": [[\"0.28\"], {\"frame\": {\"duration\": 0, \"redraw\": false}, \"fromcurrent\": true, \"mode\": \"immediate\", \"transition\": {\"duration\": 0, \"easing\": \"linear\"}}], \"label\": \"0.28\", \"method\": \"animate\"}, {\"args\": [[\"0.32\"], {\"frame\": {\"duration\": 0, \"redraw\": false}, \"fromcurrent\": true, \"mode\": \"immediate\", \"transition\": {\"duration\": 0, \"easing\": \"linear\"}}], \"label\": \"0.32\", \"method\": \"animate\"}, {\"args\": [[\"0.36\"], {\"frame\": {\"duration\": 0, \"redraw\": false}, \"fromcurrent\": true, \"mode\": \"immediate\", \"transition\": {\"duration\": 0, \"easing\": \"linear\"}}], \"label\": \"0.36\", \"method\": \"animate\"}, {\"args\": [[\"0.4\"], {\"frame\": {\"duration\": 0, \"redraw\": false}, \"fromcurrent\": true, \"mode\": \"immediate\", \"transition\": {\"duration\": 0, \"easing\": \"linear\"}}], \"label\": \"0.4\", \"method\": \"animate\"}, {\"args\": [[\"0.44\"], {\"frame\": {\"duration\": 0, \"redraw\": false}, \"fromcurrent\": true, \"mode\": \"immediate\", \"transition\": {\"duration\": 0, \"easing\": \"linear\"}}], \"label\": \"0.44\", \"method\": \"animate\"}, {\"args\": [[\"0.48\"], {\"frame\": {\"duration\": 0, \"redraw\": false}, \"fromcurrent\": true, \"mode\": \"immediate\", \"transition\": {\"duration\": 0, \"easing\": \"linear\"}}], \"label\": \"0.48\", \"method\": \"animate\"}, {\"args\": [[\"0.52\"], {\"frame\": {\"duration\": 0, \"redraw\": false}, \"fromcurrent\": true, \"mode\": \"immediate\", \"transition\": {\"duration\": 0, \"easing\": \"linear\"}}], \"label\": \"0.52\", \"method\": \"animate\"}, {\"args\": [[\"0.56\"], {\"frame\": {\"duration\": 0, \"redraw\": false}, \"fromcurrent\": true, \"mode\": \"immediate\", \"transition\": {\"duration\": 0, \"easing\": \"linear\"}}], \"label\": \"0.56\", \"method\": \"animate\"}, {\"args\": [[\"0.6\"], {\"frame\": {\"duration\": 0, \"redraw\": false}, \"fromcurrent\": true, \"mode\": \"immediate\", \"transition\": {\"duration\": 0, \"easing\": \"linear\"}}], \"label\": \"0.6\", \"method\": \"animate\"}, {\"args\": [[\"0.64\"], {\"frame\": {\"duration\": 0, \"redraw\": false}, \"fromcurrent\": true, \"mode\": \"immediate\", \"transition\": {\"duration\": 0, \"easing\": \"linear\"}}], \"label\": \"0.64\", \"method\": \"animate\"}, {\"args\": [[\"0.68\"], {\"frame\": {\"duration\": 0, \"redraw\": false}, \"fromcurrent\": true, \"mode\": \"immediate\", \"transition\": {\"duration\": 0, \"easing\": \"linear\"}}], \"label\": \"0.68\", \"method\": \"animate\"}, {\"args\": [[\"0.72\"], {\"frame\": {\"duration\": 0, \"redraw\": false}, \"fromcurrent\": true, \"mode\": \"immediate\", \"transition\": {\"duration\": 0, \"easing\": \"linear\"}}], \"label\": \"0.72\", \"method\": \"animate\"}, {\"args\": [[\"0.76\"], {\"frame\": {\"duration\": 0, \"redraw\": false}, \"fromcurrent\": true, \"mode\": \"immediate\", \"transition\": {\"duration\": 0, \"easing\": \"linear\"}}], \"label\": \"0.76\", \"method\": \"animate\"}, {\"args\": [[\"0.8\"], {\"frame\": {\"duration\": 0, \"redraw\": false}, \"fromcurrent\": true, \"mode\": \"immediate\", \"transition\": {\"duration\": 0, \"easing\": \"linear\"}}], \"label\": \"0.8\", \"method\": \"animate\"}, {\"args\": [[\"0.84\"], {\"frame\": {\"duration\": 0, \"redraw\": false}, \"fromcurrent\": true, \"mode\": \"immediate\", \"transition\": {\"duration\": 0, \"easing\": \"linear\"}}], \"label\": \"0.84\", \"method\": \"animate\"}, {\"args\": [[\"0.88\"], {\"frame\": {\"duration\": 0, \"redraw\": false}, \"fromcurrent\": true, \"mode\": \"immediate\", \"transition\": {\"duration\": 0, \"easing\": \"linear\"}}], \"label\": \"0.88\", \"method\": \"animate\"}, {\"args\": [[\"0.92\"], {\"frame\": {\"duration\": 0, \"redraw\": false}, \"fromcurrent\": true, \"mode\": \"immediate\", \"transition\": {\"duration\": 0, \"easing\": \"linear\"}}], \"label\": \"0.92\", \"method\": \"animate\"}, {\"args\": [[\"0.96\"], {\"frame\": {\"duration\": 0, \"redraw\": false}, \"fromcurrent\": true, \"mode\": \"immediate\", \"transition\": {\"duration\": 0, \"easing\": \"linear\"}}], \"label\": \"0.96\", \"method\": \"animate\"}, {\"args\": [[\"1.0\"], {\"frame\": {\"duration\": 0, \"redraw\": false}, \"fromcurrent\": true, \"mode\": \"immediate\", \"transition\": {\"duration\": 0, \"easing\": \"linear\"}}], \"label\": \"1.0\", \"method\": \"animate\"}], \"x\": 0.1, \"xanchor\": \"left\", \"y\": 0, \"yanchor\": \"top\"}], \"template\": {\"data\": {\"bar\": [{\"error_x\": {\"color\": \"#2a3f5f\"}, \"error_y\": {\"color\": \"#2a3f5f\"}, \"marker\": {\"line\": {\"color\": \"#E5ECF6\", \"width\": 0.5}}, \"type\": \"bar\"}], \"barpolar\": [{\"marker\": {\"line\": {\"color\": \"#E5ECF6\", \"width\": 0.5}}, \"type\": \"barpolar\"}], \"carpet\": [{\"aaxis\": {\"endlinecolor\": \"#2a3f5f\", \"gridcolor\": \"white\", \"linecolor\": \"white\", \"minorgridcolor\": \"white\", \"startlinecolor\": \"#2a3f5f\"}, \"baxis\": {\"endlinecolor\": \"#2a3f5f\", \"gridcolor\": \"white\", \"linecolor\": \"white\", \"minorgridcolor\": \"white\", \"startlinecolor\": \"#2a3f5f\"}, \"type\": \"carpet\"}], \"choropleth\": [{\"colorbar\": {\"outlinewidth\": 0, \"ticks\": \"\"}, \"type\": \"choropleth\"}], \"contour\": [{\"colorbar\": {\"outlinewidth\": 0, \"ticks\": \"\"}, \"colorscale\": [[0.0, \"#0d0887\"], [0.1111111111111111, \"#46039f\"], [0.2222222222222222, \"#7201a8\"], [0.3333333333333333, \"#9c179e\"], [0.4444444444444444, \"#bd3786\"], [0.5555555555555556, \"#d8576b\"], [0.6666666666666666, \"#ed7953\"], [0.7777777777777778, \"#fb9f3a\"], [0.8888888888888888, \"#fdca26\"], [1.0, \"#f0f921\"]], \"type\": \"contour\"}], \"contourcarpet\": [{\"colorbar\": {\"outlinewidth\": 0, \"ticks\": \"\"}, \"type\": \"contourcarpet\"}], \"heatmap\": [{\"colorbar\": {\"outlinewidth\": 0, \"ticks\": \"\"}, \"colorscale\": [[0.0, \"#0d0887\"], [0.1111111111111111, \"#46039f\"], [0.2222222222222222, \"#7201a8\"], [0.3333333333333333, \"#9c179e\"], [0.4444444444444444, \"#bd3786\"], [0.5555555555555556, \"#d8576b\"], [0.6666666666666666, \"#ed7953\"], [0.7777777777777778, \"#fb9f3a\"], [0.8888888888888888, \"#fdca26\"], [1.0, \"#f0f921\"]], \"type\": \"heatmap\"}], \"heatmapgl\": [{\"colorbar\": {\"outlinewidth\": 0, \"ticks\": \"\"}, \"colorscale\": [[0.0, \"#0d0887\"], [0.1111111111111111, \"#46039f\"], [0.2222222222222222, \"#7201a8\"], [0.3333333333333333, \"#9c179e\"], [0.4444444444444444, \"#bd3786\"], [0.5555555555555556, \"#d8576b\"], [0.6666666666666666, \"#ed7953\"], [0.7777777777777778, \"#fb9f3a\"], [0.8888888888888888, \"#fdca26\"], [1.0, \"#f0f921\"]], \"type\": \"heatmapgl\"}], \"histogram\": [{\"marker\": {\"colorbar\": {\"outlinewidth\": 0, \"ticks\": \"\"}}, \"type\": \"histogram\"}], \"histogram2d\": [{\"colorbar\": {\"outlinewidth\": 0, \"ticks\": \"\"}, \"colorscale\": [[0.0, \"#0d0887\"], [0.1111111111111111, \"#46039f\"], [0.2222222222222222, \"#7201a8\"], [0.3333333333333333, \"#9c179e\"], [0.4444444444444444, \"#bd3786\"], [0.5555555555555556, \"#d8576b\"], [0.6666666666666666, \"#ed7953\"], [0.7777777777777778, \"#fb9f3a\"], [0.8888888888888888, \"#fdca26\"], [1.0, \"#f0f921\"]], \"type\": \"histogram2d\"}], \"histogram2dcontour\": [{\"colorbar\": {\"outlinewidth\": 0, \"ticks\": \"\"}, \"colorscale\": [[0.0, \"#0d0887\"], [0.1111111111111111, \"#46039f\"], [0.2222222222222222, \"#7201a8\"], [0.3333333333333333, \"#9c179e\"], [0.4444444444444444, \"#bd3786\"], [0.5555555555555556, \"#d8576b\"], [0.6666666666666666, \"#ed7953\"], [0.7777777777777778, \"#fb9f3a\"], [0.8888888888888888, \"#fdca26\"], [1.0, \"#f0f921\"]], \"type\": \"histogram2dcontour\"}], \"mesh3d\": [{\"colorbar\": {\"outlinewidth\": 0, \"ticks\": \"\"}, \"type\": \"mesh3d\"}], \"parcoords\": [{\"line\": {\"colorbar\": {\"outlinewidth\": 0, \"ticks\": \"\"}}, \"type\": \"parcoords\"}], \"pie\": [{\"automargin\": true, \"type\": \"pie\"}], \"scatter\": [{\"marker\": {\"colorbar\": {\"outlinewidth\": 0, \"ticks\": \"\"}}, \"type\": \"scatter\"}], \"scatter3d\": [{\"line\": {\"colorbar\": {\"outlinewidth\": 0, \"ticks\": \"\"}}, \"marker\": {\"colorbar\": {\"outlinewidth\": 0, \"ticks\": \"\"}}, \"type\": \"scatter3d\"}], \"scattercarpet\": [{\"marker\": {\"colorbar\": {\"outlinewidth\": 0, \"ticks\": \"\"}}, \"type\": \"scattercarpet\"}], \"scattergeo\": [{\"marker\": {\"colorbar\": {\"outlinewidth\": 0, \"ticks\": \"\"}}, \"type\": \"scattergeo\"}], \"scattergl\": [{\"marker\": {\"colorbar\": {\"outlinewidth\": 0, \"ticks\": \"\"}}, \"type\": \"scattergl\"}], \"scattermapbox\": [{\"marker\": {\"colorbar\": {\"outlinewidth\": 0, \"ticks\": \"\"}}, \"type\": \"scattermapbox\"}], \"scatterpolar\": [{\"marker\": {\"colorbar\": {\"outlinewidth\": 0, \"ticks\": \"\"}}, \"type\": \"scatterpolar\"}], \"scatterpolargl\": [{\"marker\": {\"colorbar\": {\"outlinewidth\": 0, \"ticks\": \"\"}}, \"type\": \"scatterpolargl\"}], \"scatterternary\": [{\"marker\": {\"colorbar\": {\"outlinewidth\": 0, \"ticks\": \"\"}}, \"type\": \"scatterternary\"}], \"surface\": [{\"colorbar\": {\"outlinewidth\": 0, \"ticks\": \"\"}, \"colorscale\": [[0.0, \"#0d0887\"], [0.1111111111111111, \"#46039f\"], [0.2222222222222222, \"#7201a8\"], [0.3333333333333333, \"#9c179e\"], [0.4444444444444444, \"#bd3786\"], [0.5555555555555556, \"#d8576b\"], [0.6666666666666666, \"#ed7953\"], [0.7777777777777778, \"#fb9f3a\"], [0.8888888888888888, \"#fdca26\"], [1.0, \"#f0f921\"]], \"type\": \"surface\"}], \"table\": [{\"cells\": {\"fill\": {\"color\": \"#EBF0F8\"}, \"line\": {\"color\": \"white\"}}, \"header\": {\"fill\": {\"color\": \"#C8D4E3\"}, \"line\": {\"color\": \"white\"}}, \"type\": \"table\"}]}, \"layout\": {\"annotationdefaults\": {\"arrowcolor\": \"#2a3f5f\", \"arrowhead\": 0, \"arrowwidth\": 1}, \"autotypenumbers\": \"strict\", \"coloraxis\": {\"colorbar\": {\"outlinewidth\": 0, \"ticks\": \"\"}}, \"colorscale\": {\"diverging\": [[0, \"#8e0152\"], [0.1, \"#c51b7d\"], [0.2, \"#de77ae\"], [0.3, \"#f1b6da\"], [0.4, \"#fde0ef\"], [0.5, \"#f7f7f7\"], [0.6, \"#e6f5d0\"], [0.7, \"#b8e186\"], [0.8, \"#7fbc41\"], [0.9, \"#4d9221\"], [1, \"#276419\"]], \"sequential\": [[0.0, \"#0d0887\"], [0.1111111111111111, \"#46039f\"], [0.2222222222222222, \"#7201a8\"], [0.3333333333333333, \"#9c179e\"], [0.4444444444444444, \"#bd3786\"], [0.5555555555555556, \"#d8576b\"], [0.6666666666666666, \"#ed7953\"], [0.7777777777777778, \"#fb9f3a\"], [0.8888888888888888, \"#fdca26\"], [1.0, \"#f0f921\"]], \"sequentialminus\": [[0.0, \"#0d0887\"], [0.1111111111111111, \"#46039f\"], [0.2222222222222222, \"#7201a8\"], [0.3333333333333333, \"#9c179e\"], [0.4444444444444444, \"#bd3786\"], [0.5555555555555556, \"#d8576b\"], [0.6666666666666666, \"#ed7953\"], [0.7777777777777778, \"#fb9f3a\"], [0.8888888888888888, \"#fdca26\"], [1.0, \"#f0f921\"]]}, \"colorway\": [\"#636efa\", \"#EF553B\", \"#00cc96\", \"#ab63fa\", \"#FFA15A\", \"#19d3f3\", \"#FF6692\", \"#B6E880\", \"#FF97FF\", \"#FECB52\"], \"font\": {\"color\": \"#2a3f5f\"}, \"geo\": {\"bgcolor\": \"white\", \"lakecolor\": \"white\", \"landcolor\": \"#E5ECF6\", \"showlakes\": true, \"showland\": true, \"subunitcolor\": \"white\"}, \"hoverlabel\": {\"align\": \"left\"}, \"hovermode\": \"closest\", \"mapbox\": {\"style\": \"light\"}, \"paper_bgcolor\": \"white\", \"plot_bgcolor\": \"#E5ECF6\", \"polar\": {\"angularaxis\": {\"gridcolor\": \"white\", \"linecolor\": \"white\", \"ticks\": \"\"}, \"bgcolor\": \"#E5ECF6\", \"radialaxis\": {\"gridcolor\": \"white\", \"linecolor\": \"white\", \"ticks\": \"\"}}, \"scene\": {\"xaxis\": {\"backgroundcolor\": \"#E5ECF6\", \"gridcolor\": \"white\", \"gridwidth\": 2, \"linecolor\": \"white\", \"showbackground\": true, \"ticks\": \"\", \"zerolinecolor\": \"white\"}, \"yaxis\": {\"backgroundcolor\": \"#E5ECF6\", \"gridcolor\": \"white\", \"gridwidth\": 2, \"linecolor\": \"white\", \"showbackground\": true, \"ticks\": \"\", \"zerolinecolor\": \"white\"}, \"zaxis\": {\"backgroundcolor\": \"#E5ECF6\", \"gridcolor\": \"white\", \"gridwidth\": 2, \"linecolor\": \"white\", \"showbackground\": true, \"ticks\": \"\", \"zerolinecolor\": \"white\"}}, \"shapedefaults\": {\"line\": {\"color\": \"#2a3f5f\"}}, \"ternary\": {\"aaxis\": {\"gridcolor\": \"white\", \"linecolor\": \"white\", \"ticks\": \"\"}, \"baxis\": {\"gridcolor\": \"white\", \"linecolor\": \"white\", \"ticks\": \"\"}, \"bgcolor\": \"#E5ECF6\", \"caxis\": {\"gridcolor\": \"white\", \"linecolor\": \"white\", \"ticks\": \"\"}}, \"title\": {\"x\": 0.05}, \"xaxis\": {\"automargin\": true, \"gridcolor\": \"white\", \"linecolor\": \"white\", \"ticks\": \"\", \"title\": {\"standoff\": 15}, \"zerolinecolor\": \"white\", \"zerolinewidth\": 2}, \"yaxis\": {\"automargin\": true, \"gridcolor\": \"white\", \"linecolor\": \"white\", \"ticks\": \"\", \"title\": {\"standoff\": 15}, \"zerolinecolor\": \"white\", \"zerolinewidth\": 2}}}, \"title\": {\"text\": \"Rocket car solution for energy minimization. v_max=1.2\"}, \"updatemenus\": [{\"buttons\": [{\"args\": [null, {\"frame\": {\"duration\": 500, \"redraw\": false}, \"fromcurrent\": true, \"mode\": \"immediate\", \"transition\": {\"duration\": 500, \"easing\": \"linear\"}}], \"label\": \"&#9654;\", \"method\": \"animate\"}, {\"args\": [[null], {\"frame\": {\"duration\": 0, \"redraw\": false}, \"fromcurrent\": true, \"mode\": \"immediate\", \"transition\": {\"duration\": 0, \"easing\": \"linear\"}}], \"label\": \"&#9724;\", \"method\": \"animate\"}], \"direction\": \"left\", \"pad\": {\"r\": 10, \"t\": 70}, \"showactive\": false, \"type\": \"buttons\", \"x\": 0.1, \"xanchor\": \"right\", \"y\": 0, \"yanchor\": \"top\"}], \"xaxis\": {\"anchor\": \"y\", \"domain\": [0.0, 1.0], \"title\": {\"text\": \"position\"}}, \"yaxis\": {\"anchor\": \"x\", \"domain\": [0.0, 1.0], \"title\": {\"text\": \"y\"}}},                        {\"responsive\": true}                    ).then(function(){\n                            Plotly.addFrames('4048f75a-3864-41c1-a1d1-6238f2e98212', [{\"data\": [{\"hovertemplate\": \"time=0.0<br>position=%{x}<br>y=%{y}<br>text=%{text}<extra></extra>\", \"legendgroup\": \"\", \"marker\": {\"color\": \"#636efa\", \"symbol\": \"circle\"}, \"mode\": \"markers+text\", \"name\": \"\", \"orientation\": \"v\", \"showlegend\": false, \"text\": [\"0.0m/s 0.0m/s^2\"], \"x\": [0.0], \"xaxis\": \"x\", \"y\": [0.0], \"yaxis\": \"y\", \"type\": \"scatter\"}], \"name\": \"0.0\"}, {\"data\": [{\"hovertemplate\": \"time=0.04<br>position=%{x}<br>y=%{y}<br>text=%{text}<extra></extra>\", \"legendgroup\": \"\", \"marker\": {\"color\": \"#636efa\", \"symbol\": \"circle\"}, \"mode\": \"markers+text\", \"name\": \"\", \"orientation\": \"v\", \"showlegend\": false, \"text\": [\"7.78m/s 7.78m/s^2\"], \"x\": [0.012452648251160636], \"xaxis\": \"x\", \"y\": [0.0], \"yaxis\": \"y\", \"type\": \"scatter\"}], \"name\": \"0.04\"}, {\"data\": [{\"hovertemplate\": \"time=0.08<br>position=%{x}<br>y=%{y}<br>text=%{text}<extra></extra>\", \"legendgroup\": \"\", \"marker\": {\"color\": \"#636efa\", \"symbol\": \"circle\"}, \"mode\": \"markers+text\", \"name\": \"\", \"orientation\": \"v\", \"showlegend\": false, \"text\": [\"6.62m/s 6.62m/s^2\"], \"x\": [0.035492776281901076], \"xaxis\": \"x\", \"y\": [0.0], \"yaxis\": \"y\", \"type\": \"scatter\"}], \"name\": \"0.08\"}, {\"data\": [{\"hovertemplate\": \"time=0.12<br>position=%{x}<br>y=%{y}<br>text=%{text}<extra></extra>\", \"legendgroup\": \"\", \"marker\": {\"color\": \"#636efa\", \"symbol\": \"circle\"}, \"mode\": \"markers+text\", \"name\": \"\", \"orientation\": \"v\", \"showlegend\": false, \"text\": [\"5.45m/s 5.45m/s^2\"], \"x\": [0.0672552156280279], \"xaxis\": \"x\", \"y\": [0.0], \"yaxis\": \"y\", \"type\": \"scatter\"}], \"name\": \"0.12\"}, {\"data\": [{\"hovertemplate\": \"time=0.16<br>position=%{x}<br>y=%{y}<br>text=%{text}<extra></extra>\", \"legendgroup\": \"\", \"marker\": {\"color\": \"#636efa\", \"symbol\": \"circle\"}, \"mode\": \"markers+text\", \"name\": \"\", \"orientation\": \"v\", \"showlegend\": false, \"text\": [\"4.29m/s 4.29m/s^2\"], \"x\": [0.1058747978304251], \"xaxis\": \"x\", \"y\": [0.0], \"yaxis\": \"y\", \"type\": \"scatter\"}], \"name\": \"0.16\"}, {\"data\": [{\"hovertemplate\": \"time=0.2<br>position=%{x}<br>y=%{y}<br>text=%{text}<extra></extra>\", \"legendgroup\": \"\", \"marker\": {\"color\": \"#636efa\", \"symbol\": \"circle\"}, \"mode\": \"markers+text\", \"name\": \"\", \"orientation\": \"v\", \"showlegend\": false, \"text\": [\"3.12m/s 3.12m/s^2\"], \"x\": [0.14948635443790717], \"xaxis\": \"x\", \"y\": [0.0], \"yaxis\": \"y\", \"type\": \"scatter\"}], \"name\": \"0.2\"}, {\"data\": [{\"hovertemplate\": \"time=0.24<br>position=%{x}<br>y=%{y}<br>text=%{text}<extra></extra>\", \"legendgroup\": \"\", \"marker\": {\"color\": \"#636efa\", \"symbol\": \"circle\"}, \"mode\": \"markers+text\", \"name\": \"\", \"orientation\": \"v\", \"showlegend\": false, \"text\": [\"1.95m/s 1.95m/s^2\"], \"x\": [0.19622471701909439], \"xaxis\": \"x\", \"y\": [0.0], \"yaxis\": \"y\", \"type\": \"scatter\"}], \"name\": \"0.24\"}, {\"data\": [{\"hovertemplate\": \"time=0.28<br>position=%{x}<br>y=%{y}<br>text=%{text}<extra></extra>\", \"legendgroup\": \"\", \"marker\": {\"color\": \"#636efa\", \"symbol\": \"circle\"}, \"mode\": \"markers+text\", \"name\": \"\", \"orientation\": \"v\", \"showlegend\": false, \"text\": [\"0.79m/s 0.79m/s^2\"], \"x\": [0.24422471723335884], \"xaxis\": \"x\", \"y\": [0.0], \"yaxis\": \"y\", \"type\": \"scatter\"}], \"name\": \"0.28\"}, {\"data\": [{\"hovertemplate\": \"time=0.32<br>position=%{x}<br>y=%{y}<br>text=%{text}<extra></extra>\", \"legendgroup\": \"\", \"marker\": {\"color\": \"#636efa\", \"symbol\": \"circle\"}, \"mode\": \"markers+text\", \"name\": \"\", \"orientation\": \"v\", \"showlegend\": false, \"text\": [\"0.0m/s 0.0m/s^2\"], \"x\": [0.29222471762737307], \"xaxis\": \"x\", \"y\": [0.0], \"yaxis\": \"y\", \"type\": \"scatter\"}], \"name\": \"0.32\"}, {\"data\": [{\"hovertemplate\": \"time=0.36<br>position=%{x}<br>y=%{y}<br>text=%{text}<extra></extra>\", \"legendgroup\": \"\", \"marker\": {\"color\": \"#636efa\", \"symbol\": \"circle\"}, \"mode\": \"markers+text\", \"name\": \"\", \"orientation\": \"v\", \"showlegend\": false, \"text\": [\"0.0m/s 0.0m/s^2\"], \"x\": [0.3402247180213874], \"xaxis\": \"x\", \"y\": [0.0], \"yaxis\": \"y\", \"type\": \"scatter\"}], \"name\": \"0.36\"}, {\"data\": [{\"hovertemplate\": \"time=0.4<br>position=%{x}<br>y=%{y}<br>text=%{text}<extra></extra>\", \"legendgroup\": \"\", \"marker\": {\"color\": \"#636efa\", \"symbol\": \"circle\"}, \"mode\": \"markers+text\", \"name\": \"\", \"orientation\": \"v\", \"showlegend\": false, \"text\": [\"0.0m/s 0.0m/s^2\"], \"x\": [0.38822471841540174], \"xaxis\": \"x\", \"y\": [0.0], \"yaxis\": \"y\", \"type\": \"scatter\"}], \"name\": \"0.4\"}, {\"data\": [{\"hovertemplate\": \"time=0.44<br>position=%{x}<br>y=%{y}<br>text=%{text}<extra></extra>\", \"legendgroup\": \"\", \"marker\": {\"color\": \"#636efa\", \"symbol\": \"circle\"}, \"mode\": \"markers+text\", \"name\": \"\", \"orientation\": \"v\", \"showlegend\": false, \"text\": [\"0.0m/s 0.0m/s^2\"], \"x\": [0.436224718809416], \"xaxis\": \"x\", \"y\": [0.0], \"yaxis\": \"y\", \"type\": \"scatter\"}], \"name\": \"0.44\"}, {\"data\": [{\"hovertemplate\": \"time=0.48<br>position=%{x}<br>y=%{y}<br>text=%{text}<extra></extra>\", \"legendgroup\": \"\", \"marker\": {\"color\": \"#636efa\", \"symbol\": \"circle\"}, \"mode\": \"markers+text\", \"name\": \"\", \"orientation\": \"v\", \"showlegend\": false, \"text\": [\"0.0m/s 0.0m/s^2\"], \"x\": [0.4842247192034302], \"xaxis\": \"x\", \"y\": [0.0], \"yaxis\": \"y\", \"type\": \"scatter\"}], \"name\": \"0.48\"}, {\"data\": [{\"hovertemplate\": \"time=0.52<br>position=%{x}<br>y=%{y}<br>text=%{text}<extra></extra>\", \"legendgroup\": \"\", \"marker\": {\"color\": \"#636efa\", \"symbol\": \"circle\"}, \"mode\": \"markers+text\", \"name\": \"\", \"orientation\": \"v\", \"showlegend\": false, \"text\": [\"0.0m/s 0.0m/s^2\"], \"x\": [0.5322247195974446], \"xaxis\": \"x\", \"y\": [0.0], \"yaxis\": \"y\", \"type\": \"scatter\"}], \"name\": \"0.52\"}, {\"data\": [{\"hovertemplate\": \"time=0.56<br>position=%{x}<br>y=%{y}<br>text=%{text}<extra></extra>\", \"legendgroup\": \"\", \"marker\": {\"color\": \"#636efa\", \"symbol\": \"circle\"}, \"mode\": \"markers+text\", \"name\": \"\", \"orientation\": \"v\", \"showlegend\": false, \"text\": [\"0.0m/s 0.0m/s^2\"], \"x\": [0.5802247199914589], \"xaxis\": \"x\", \"y\": [0.0], \"yaxis\": \"y\", \"type\": \"scatter\"}], \"name\": \"0.56\"}, {\"data\": [{\"hovertemplate\": \"time=0.6<br>position=%{x}<br>y=%{y}<br>text=%{text}<extra></extra>\", \"legendgroup\": \"\", \"marker\": {\"color\": \"#636efa\", \"symbol\": \"circle\"}, \"mode\": \"markers+text\", \"name\": \"\", \"orientation\": \"v\", \"showlegend\": false, \"text\": [\"-0.0m/s -0.0m/s^2\"], \"x\": [0.6282247203854731], \"xaxis\": \"x\", \"y\": [0.0], \"yaxis\": \"y\", \"type\": \"scatter\"}], \"name\": \"0.6\"}, {\"data\": [{\"hovertemplate\": \"time=0.64<br>position=%{x}<br>y=%{y}<br>text=%{text}<extra></extra>\", \"legendgroup\": \"\", \"marker\": {\"color\": \"#636efa\", \"symbol\": \"circle\"}, \"mode\": \"markers+text\", \"name\": \"\", \"orientation\": \"v\", \"showlegend\": false, \"text\": [\"0.0m/s 0.0m/s^2\"], \"x\": [0.6762247207794874], \"xaxis\": \"x\", \"y\": [0.0], \"yaxis\": \"y\", \"type\": \"scatter\"}], \"name\": \"0.64\"}, {\"data\": [{\"hovertemplate\": \"time=0.68<br>position=%{x}<br>y=%{y}<br>text=%{text}<extra></extra>\", \"legendgroup\": \"\", \"marker\": {\"color\": \"#636efa\", \"symbol\": \"circle\"}, \"mode\": \"markers+text\", \"name\": \"\", \"orientation\": \"v\", \"showlegend\": false, \"text\": [\"-0.0m/s -0.0m/s^2\"], \"x\": [0.7242247211735017], \"xaxis\": \"x\", \"y\": [0.0], \"yaxis\": \"y\", \"type\": \"scatter\"}], \"name\": \"0.68\"}, {\"data\": [{\"hovertemplate\": \"time=0.72<br>position=%{x}<br>y=%{y}<br>text=%{text}<extra></extra>\", \"legendgroup\": \"\", \"marker\": {\"color\": \"#636efa\", \"symbol\": \"circle\"}, \"mode\": \"markers+text\", \"name\": \"\", \"orientation\": \"v\", \"showlegend\": false, \"text\": [\"-0.0m/s -0.0m/s^2\"], \"x\": [0.7722247215675156], \"xaxis\": \"x\", \"y\": [0.0], \"yaxis\": \"y\", \"type\": \"scatter\"}], \"name\": \"0.72\"}, {\"data\": [{\"hovertemplate\": \"time=0.76<br>position=%{x}<br>y=%{y}<br>text=%{text}<extra></extra>\", \"legendgroup\": \"\", \"marker\": {\"color\": \"#636efa\", \"symbol\": \"circle\"}, \"mode\": \"markers+text\", \"name\": \"\", \"orientation\": \"v\", \"showlegend\": false, \"text\": [\"-0.0m/s -0.0m/s^2\"], \"x\": [0.8202247215711099], \"xaxis\": \"x\", \"y\": [0.0], \"yaxis\": \"y\", \"type\": \"scatter\"}], \"name\": \"0.76\"}, {\"data\": [{\"hovertemplate\": \"time=0.8<br>position=%{x}<br>y=%{y}<br>text=%{text}<extra></extra>\", \"legendgroup\": \"\", \"marker\": {\"color\": \"#636efa\", \"symbol\": \"circle\"}, \"mode\": \"markers+text\", \"name\": \"\", \"orientation\": \"v\", \"showlegend\": false, \"text\": [\"-0.96m/s -0.96m/s^2\"], \"x\": [0.8666966313392935], \"xaxis\": \"x\", \"y\": [0.0], \"yaxis\": \"y\", \"type\": \"scatter\"}], \"name\": \"0.8\"}, {\"data\": [{\"hovertemplate\": \"time=0.84<br>position=%{x}<br>y=%{y}<br>text=%{text}<extra></extra>\", \"legendgroup\": \"\", \"marker\": {\"color\": \"#636efa\", \"symbol\": \"circle\"}, \"mode\": \"markers+text\", \"name\": \"\", \"orientation\": \"v\", \"showlegend\": false, \"text\": [\"-2.12m/s -2.12m/s^2\"], \"x\": [0.9097752825092605], \"xaxis\": \"x\", \"y\": [0.0], \"yaxis\": \"y\", \"type\": \"scatter\"}], \"name\": \"0.84\"}, {\"data\": [{\"hovertemplate\": \"time=0.88<br>position=%{x}<br>y=%{y}<br>text=%{text}<extra></extra>\", \"legendgroup\": \"\", \"marker\": {\"color\": \"#636efa\", \"symbol\": \"circle\"}, \"mode\": \"markers+text\", \"name\": \"\", \"orientation\": \"v\", \"showlegend\": false, \"text\": [\"-3.29m/s -3.29m/s^2\"], \"x\": [0.947595506645642], \"xaxis\": \"x\", \"y\": [0.0], \"yaxis\": \"y\", \"type\": \"scatter\"}], \"name\": \"0.88\"}, {\"data\": [{\"hovertemplate\": \"time=0.92<br>position=%{x}<br>y=%{y}<br>text=%{text}<extra></extra>\", \"legendgroup\": \"\", \"marker\": {\"color\": \"#636efa\", \"symbol\": \"circle\"}, \"mode\": \"markers+text\", \"name\": \"\", \"orientation\": \"v\", \"showlegend\": false, \"text\": [\"-4.45m/s -4.45m/s^2\"], \"x\": [0.9782921352958438], \"xaxis\": \"x\", \"y\": [0.0], \"yaxis\": \"y\", \"type\": \"scatter\"}], \"name\": \"0.92\"}, {\"data\": [{\"hovertemplate\": \"time=0.96<br>position=%{x}<br>y=%{y}<br>text=%{text}<extra></extra>\", \"legendgroup\": \"\", \"marker\": {\"color\": \"#636efa\", \"symbol\": \"circle\"}, \"mode\": \"markers+text\", \"name\": \"\", \"orientation\": \"v\", \"showlegend\": false, \"text\": [\"-5.62m/s -5.62m/s^2\"], \"x\": [1.0], \"xaxis\": \"x\", \"y\": [0.0], \"yaxis\": \"y\", \"type\": \"scatter\"}], \"name\": \"0.96\"}, {\"data\": [{\"hovertemplate\": \"time=1.0<br>position=%{x}<br>y=%{y}<br>text=%{text}<extra></extra>\", \"legendgroup\": \"\", \"marker\": {\"color\": \"#636efa\", \"symbol\": \"circle\"}, \"mode\": \"markers+text\", \"name\": \"\", \"orientation\": \"v\", \"showlegend\": false, \"text\": [\"-13.57m/s -13.57m/s^2\"], \"x\": [1.0], \"xaxis\": \"x\", \"y\": [0.0], \"yaxis\": \"y\", \"type\": \"scatter\"}], \"name\": \"1.0\"}]);\n                        }).then(function(){\n                            \nvar gd = document.getElementById('4048f75a-3864-41c1-a1d1-6238f2e98212');\nvar x = new MutationObserver(function (mutations, observer) {{\n        var display = window.getComputedStyle(gd).display;\n        if (!display || display === 'none') {{\n            console.log([gd, 'removed!']);\n            Plotly.purge(gd);\n            observer.disconnect();\n        }}\n}});\n\n// Listen for the removal of the full notebook cells\nvar notebookContainer = gd.closest('#notebook-container');\nif (notebookContainer) {{\n    x.observe(notebookContainer, {childList: true});\n}}\n\n// Listen for the clearing of the current output cell\nvar outputEl = gd.closest('.output');\nif (outputEl) {{\n    x.observe(outputEl, {childList: true});\n}}\n\n                        })                };                });            </script>        </div>"
     },
     "metadata": {},
     "output_type": "display_data"
    }
   ],
   "source": [
    "current_title = \"Rocket car solution for energy minimization. v_max=\" + str(velocity_max)\n",
    "animation = px.scatter(solution_rocket_energy,\n",
    "                       x='position',\n",
    "                       y='y',\n",
    "                       animation_frame='time',\n",
    "                       text='text',\n",
    "                       title=current_title)\n",
    "animation.add_traces(px.line(solution_rocket_energy, x='position', y='y')\n",
    "                     .update_traces(marker_color=\"red\").data[0])\n",
    "animation.show()\n"
   ],
   "metadata": {
    "collapsed": false,
    "pycharm": {
     "name": "#%%\n"
    }
   }
  },
  {
   "cell_type": "markdown",
   "source": [
    "Following an example for solving energy minimization."
   ],
   "metadata": {
    "collapsed": false
   }
  },
  {
   "cell_type": "code",
   "execution_count": 94,
   "outputs": [
    {
     "name": "stdout",
     "output_type": "stream",
     "text": [
      "WARNING: Loading a SolverResults object with a warning status into\n",
      "    model=unknown;\n",
      "        message from solver=Ipopt 3.11.1\\x3a Converged to a locally infeasible\n",
      "        point. Problem may be infeasible.\n"
     ]
    },
    {
     "data": {
      "text/plain": "<Figure size 432x288 with 2 Axes>",
      "image/png": "[encoded data removed]"
     },
     "metadata": {
      "needs_background": "light"
     },
     "output_type": "display_data"
    }
   ],
   "source": [
    "# Initialize general tuning variables\n",
    "t_f = 1\n",
    "control = 1\n",
    "distance = 1\n",
    "velocity_max = 1.2 # when no max velocity bound is required, set this to np.inf\n",
    "\n",
    "# Initialize model object\n",
    "rocket_time = env.ConcreteModel()\n",
    "\n",
    "# Initialize time variable\n",
    "rocket_time.t = dae.ContinuousSet(initialize=[1], bounds=(0, np.inf))\n",
    "\n",
    "# Define control\n",
    "rocket_time.u = env.Var(rocket_time.t, bounds=(-control, control))\n",
    "\n",
    "\n",
    "# Define dependent variables\n",
    "rocket_time.x = env.Var(rocket_time.t)\n",
    "rocket_time.v = env.Var(rocket_time.t, bounds=(0, velocity_max))\n",
    "\n",
    "# Define derivatives\n",
    "rocket_time.x_dot = dae.DerivativeVar(rocket_time.x)\n",
    "rocket_time.v_dot = dae.DerivativeVar(rocket_time.v)\n",
    "\n",
    "# Define ODE constraints\n",
    "rocket_time.ode_x = env.Constraint(rocket_time.t, rule=lambda m, t: m.x_dot[t] == m.v[t])\n",
    "rocket_time.ode_v = env.Constraint(rocket_time.t, rule=lambda m, t: m.v_dot[t] == m.u[t])\n",
    "\n",
    "# Set initial and final conditions\n",
    "rocket_time.bounds = env.ConstraintList()\n",
    "rocket_time.bounds.add(rocket_time.x[0] == 0)\n",
    "rocket_time.bounds.add(rocket_time.v[0] == 0)\n",
    "rocket_time.bounds.add(rocket_time.x[t_f] == distance)\n",
    "rocket_time.bounds.add(rocket_time.v[t_f] == 0)\n",
    "\n",
    "# Define model objective\n",
    "rocket_time.Integral = dae.Integral(rocket_time.t, wrt=rocket_time.t, rule=lambda m, t: 1)\n",
    "rocket_time.objective = env.Objective(expr=rocket_time.Integral)\n",
    "\n",
    "# %% Solve system\n",
    "env.TransformationFactory('dae.finite_difference').apply_to(rocket_time, wrt=rocket_time.t, nfe=25)\n",
    "env.SolverFactory('ipopt').solve(rocket_time)\n",
    "\n",
    "# %% Plotting results\n",
    "time = np.array([t for t in rocket_time.t])\n",
    "x = np.array([rocket_time.x[t]() for t in rocket_time.t])\n",
    "v = np.array([rocket_time.v[t]() for t in rocket_time.t])\n",
    "u = np.array([rocket_time.u[t]() for t in rocket_time.t])\n",
    "text_display = np.array([str(round(rocket_time.u[t](), 2))+\"m/s \"+\n",
    "                         str(round(rocket_time.u[t](), 2))+\"m/s^2\"\n",
    "                         for t in rocket_time.t])\n",
    "solution_rocket_time = pd.DataFrame(data={'time': time,\n",
    "                                            'position': x,\n",
    "                                            'y': np.zeros(x.__len__()),\n",
    "                                            'velocity': v,\n",
    "                                            'control': u,\n",
    "                                            'text': text_display})\n",
    "\n",
    "fig, axes = plt.subplots(nrows=1, ncols=2)\n",
    "fig.tight_layout()\n",
    "axes[0].plot(time, x, label=\"path change\")\n",
    "axes[0].plot(time, v, label=\"velocity change\")\n",
    "axes[0].set_title(\"Path of Car\")\n",
    "axes[0].legend()\n",
    "\n",
    "for i in range(np.size(u)-1):\n",
    "    u_temp = ([u[i], u[i]])\n",
    "    x_temp = ([time[i], time[i+1]])\n",
    "    axes[1].plot(x_temp, u_temp, '-', lw=2, color='k')\n",
    "axes[1].set_title(\"Control change over time mesh\")\n",
    "plt.show()"
   ],
   "metadata": {
    "collapsed": false,
    "pycharm": {
     "name": "#%%\n"
    }
   }
  },
  {
   "cell_type": "code",
   "execution_count": null,
   "outputs": [],
   "source": [
    "current_title = \"Rocket car solution for time minimization. v_max=\" + str(velocity_max)\n",
    "animation = px.scatter(solution_rocket_time,\n",
    "                       x='position',\n",
    "                       y='y',\n",
    "                       animation_frame='time',\n",
    "                       text='text',\n",
    "                       title=current_title)\n",
    "animation.add_traces(px.line(solution_rocket_time, x='position', y='y')\n",
    "                     .update_traces(marker_color=\"red\").data[0])"
   ],
   "metadata": {
    "collapsed": false,
    "pycharm": {
     "name": "#%%\n"
    }
   }
  }
 ],
 "metadata": {
  "kernelspec": {
   "display_name": "Python 3",
   "language": "python",
   "name": "python3"
  },
  "language_info": {
   "codemirror_mode": {
    "name": "ipython",
    "version": 2
   },
   "file_extension": ".py",
   "mimetype": "text/x-python",
   "name": "python",
   "nbconvert_exporter": "python",
   "pygments_lexer": "ipython2",
   "version": "2.7.6"
  }
 },
 "nbformat": 4,
 "nbformat_minor": 0
}