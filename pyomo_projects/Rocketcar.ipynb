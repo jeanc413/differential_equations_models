{
 "cells": [
  {
   "cell_type": "markdown",
   "source": [
    "# Rocket Car\n",
    "\n",
    "\\begin{equation}\n",
    "\\begin{array}{rrclcl}\n",
    "\\displaystyle \\min_{u} & {\\int_{0}^{T} \\frac{1}{2} u(t)^2 dt}\\\\\n",
    "\\textrm{s.t.} &{\\dot s = v}\\\\\n",
    "&{\\dot v = u} \\\\\n",
    "&{s(0) = 0}    \\\\\n",
    "&{v(0) = 0}    \\\\\n",
    "&{r(T, y(t)) = \\begin{bmatrix}\n",
    "           s(T) -d \\\\\n",
    "           v(T) \\\\\n",
    "         \\end{bmatrix}} &=0   \\\\\n",
    "\\end{array}\n",
    "\\end{equation}\n",
    "\n",
    "-----------------\n",
    "\n",
    "![RocketCar](https://www.researchgate.net/profile/John_Burns6/publication/267218497/figure/fig5/AS:641369194364932@1529925740408/The-Rocket-Car-Control-Problem.png)"
   ],
   "metadata": {
    "collapsed": false
   }
  },
  {
   "cell_type": "code",
   "execution_count": 3,
   "outputs": [],
   "source": [
    "# importing required packages.\n",
    "import pandas as pd\n",
    "import matplotlib.pyplot as plt\n",
    "import numpy as np\n",
    "import pyomo.environ as env\n",
    "import pyomo.dae as dae\n",
    "import plotly.express as px"
   ],
   "metadata": {
    "collapsed": false,
    "pycharm": {
     "name": "#%%\n"
    }
   }
  },
  {
   "cell_type": "code",
   "execution_count": 11,
   "outputs": [
    {
     "data": {
      "text/plain": "<Figure size 432x288 with 2 Axes>",
      "image/png": "[encoded data removed]"
     },
     "metadata": {
      "needs_background": "light"
     },
     "output_type": "display_data"
    }
   ],
   "source": [
    "# Initialize general tuning variables\n",
    "t_f = 1\n",
    "control = 15\n",
    "distance = 1\n",
    "\n",
    "# Initialize model object\n",
    "Rocket = env.ConcreteModel()\n",
    "\n",
    "# Initialize time variable\n",
    "# Rocket.tf = env.Var(domain=env.NonNegativeReals)\n",
    "Rocket.t = dae.ContinuousSet(bounds=(0, t_f))\n",
    "\n",
    "# Define control\n",
    "Rocket.u = env.Var(Rocket.t, bounds=(-control, control))\n",
    "\n",
    "\n",
    "# Define dependent variables\n",
    "Rocket.x = env.Var(Rocket.t)\n",
    "Rocket.v = env.Var(Rocket.t)\n",
    "\n",
    "# Define derivatives\n",
    "Rocket.x_dot = dae.DerivativeVar(Rocket.x)\n",
    "Rocket.v_dot = dae.DerivativeVar(Rocket.v)\n",
    "\n",
    "# Define ODE constraints\n",
    "Rocket.ode_x = env.Constraint(Rocket.t, rule=lambda m, t: m.x_dot[t] == m.v[t])\n",
    "Rocket.ode_v = env.Constraint(Rocket.t, rule=lambda m, t: m.v_dot[t] == m.u[t])\n",
    "\n",
    "# Set initial and final conditions\n",
    "Rocket.bounds = env.ConstraintList()\n",
    "Rocket.bounds.add(Rocket.x[0] == 0)\n",
    "Rocket.bounds.add(Rocket.v[0] == 0)\n",
    "# Rocket.bounds.add(Rocket.u[0] == 1)\n",
    "Rocket.bounds.add(Rocket.x[t_f] == distance)\n",
    "Rocket.bounds.add(Rocket.v[t_f] == 0)\n",
    "\n",
    "# Define model objective\n",
    "Rocket.Integral = dae.Integral(Rocket.t, wrt=Rocket.t, rule=lambda m, t: 0.5*(m.u[t]**2))\n",
    "Rocket.objective = env.Objective(expr=Rocket.Integral)\n",
    "\n",
    "# %% Solve system\n",
    "env.TransformationFactory('dae.finite_difference').apply_to(Rocket, wrt=Rocket.t, nfe=25)\n",
    "env.SolverFactory('ipopt').solve(Rocket)\n",
    "\n",
    "# %% Plotting results\n",
    "time = np.array([t for t in Rocket.t])\n",
    "x = np.array([Rocket.x[t]() for t in Rocket.t])\n",
    "v = np.array([Rocket.v[t]() for t in Rocket.t])\n",
    "u = np.array([Rocket.u[t]() for t in Rocket.t])\n",
    "\n",
    "fig, axes = plt.subplots(nrows=1, ncols=2)\n",
    "fig.tight_layout()\n",
    "axes[0].plot(time, x, label=\"path change\")\n",
    "axes[0].plot(time, v, label=\"velocity change\")\n",
    "axes[0].set_title(\"Path of Car\")\n",
    "axes[0].legend()\n",
    "\n",
    "for i in range(np.size(u)-1):\n",
    "    u_temp = ([u[i], u[i]])\n",
    "    x_temp = ([time[i], time[i+1]])\n",
    "    axes[1].plot(x_temp, u_temp, '-', lw=2, color='k')\n",
    "axes[1].set_title(\"Control change over time mesh\")\n",
    "plt.show()\n"
   ],
   "metadata": {
    "collapsed": false,
    "pycharm": {
     "name": "#%%\n"
    }
   }
  }
 ],
 "metadata": {
  "kernelspec": {
   "display_name": "Python 3",
   "language": "python",
   "name": "python3"
  },
  "language_info": {
   "codemirror_mode": {
    "name": "ipython",
    "version": 2
   },
   "file_extension": ".py",
   "mimetype": "text/x-python",
   "name": "python",
   "nbconvert_exporter": "python",
   "pygments_lexer": "ipython2",
   "version": "2.7.6"
  }
 },
 "nbformat": 4,
 "nbformat_minor": 0
}